{
 "cells": [
  {
   "cell_type": "markdown",
   "metadata": {},
   "source": [
    "# Regression with Neural Networks"
   ]
  },
  {
   "cell_type": "code",
   "execution_count": 1,
   "metadata": {},
   "outputs": [],
   "source": [
    "import numpy as np\n",
    "import pandas as pd\n",
    "import matplotlib.pyplot as plt\n",
    "import seaborn as sns\n",
    "import os\n",
    "%matplotlib inline"
   ]
  },
  {
   "cell_type": "markdown",
   "metadata": {},
   "source": [
    "## Anatomy of an MLP:  elements of a neural network model"
   ]
  },
  {
   "cell_type": "code",
   "execution_count": 2,
   "metadata": {},
   "outputs": [
    {
     "data": {
      "image/png": "[encoded data removed]",
      "text/plain": [
       "<Figure size 720x288 with 3 Axes>"
      ]
     },
     "metadata": {},
     "output_type": "display_data"
    }
   ],
   "source": [
    "x = np.linspace(-5, 5, 200)\n",
    "\n",
    "fig, ax = plt.subplots(nrows=1, ncols=3, figsize=(10,4))\n",
    "ax[0].plot(x, 1/(1+np.exp(-x)))\n",
    "ax[0].set_title('Sigmoid')\n",
    "     \n",
    "ax[1].plot(x, np.tanh(x))\n",
    "ax[1].set_title('Hyperbolic Tangent')\n",
    "\n",
    "ax[2].plot(x, np.maximum(0, x))\n",
    "ax[2].set_title('ReLU')\n",
    "\n",
    "for p in ax:\n",
    "    p.grid()"
   ]
  },
  {
   "cell_type": "markdown",
   "metadata": {},
   "source": [
    "## Loading and preparation"
   ]
  },
  {
   "cell_type": "code",
   "execution_count": 3,
   "metadata": {},
   "outputs": [],
   "source": [
    "DATA_DIR = '../data'\n",
    "FILE_NAME = 'diamonds.csv'\n",
    "data_path = os.path.join(DATA_DIR, FILE_NAME)\n",
    "diamonds = pd.read_csv(data_path)\n",
    "## Preparation done from Chapter 2\n",
    "diamonds = diamonds.loc[(diamonds['x']>0) | (diamonds['y']>0)]\n",
    "diamonds.loc[11182, 'x'] = diamonds['x'].median()\n",
    "diamonds.loc[11182, 'z'] = diamonds['z'].median()\n",
    "diamonds = diamonds.loc[~((diamonds['y'] > 30) | (diamonds['z'] > 30))]\n",
    "diamonds = pd.concat([diamonds, pd.get_dummies(diamonds['cut'], prefix='cut', drop_first=True)], axis=1)\n",
    "diamonds = pd.concat([diamonds, pd.get_dummies(diamonds['color'], prefix='color', drop_first=True)], axis=1)\n",
    "diamonds = pd.concat([diamonds, pd.get_dummies(diamonds['clarity'], prefix='clarity', drop_first=True)], axis=1)"
   ]
  },
  {
   "cell_type": "markdown",
   "metadata": {},
   "source": [
    "#### Train-test split"
   ]
  },
  {
   "cell_type": "code",
   "execution_count": 4,
   "metadata": {},
   "outputs": [],
   "source": [
    "X = diamonds.drop(['cut','color','clarity','price'], axis=1)\n",
    "y = diamonds['price']"
   ]
  },
  {
   "cell_type": "code",
   "execution_count": 5,
   "metadata": {},
   "outputs": [],
   "source": [
    "from sklearn.model_selection import train_test_split\n",
    "X_train, X_test, y_train, y_test = train_test_split(X, y, test_size=0.1, random_state=123)"
   ]
  },
  {
   "cell_type": "markdown",
   "metadata": {},
   "source": [
    "#### Dimensionality reduction"
   ]
  },
  {
   "cell_type": "code",
   "execution_count": 6,
   "metadata": {
    "scrolled": true
   },
   "outputs": [
    {
     "name": "stderr",
     "output_type": "stream",
     "text": [
      "C:\\Users\\direc\\Anaconda3\\envs\\mybook\\lib\\site-packages\\ipykernel_launcher.py:4: SettingWithCopyWarning: \n",
      "A value is trying to be set on a copy of a slice from a DataFrame.\n",
      "Try using .loc[row_indexer,col_indexer] = value instead\n",
      "\n",
      "See the caveats in the documentation: http://pandas.pydata.org/pandas-docs/stable/indexing.html#indexing-view-versus-copy\n",
      "  after removing the cwd from sys.path.\n",
      "C:\\Users\\direc\\Anaconda3\\envs\\mybook\\lib\\site-packages\\pandas\\core\\frame.py:3694: SettingWithCopyWarning: \n",
      "A value is trying to be set on a copy of a slice from a DataFrame\n",
      "\n",
      "See the caveats in the documentation: http://pandas.pydata.org/pandas-docs/stable/indexing.html#indexing-view-versus-copy\n",
      "  errors=errors)\n"
     ]
    }
   ],
   "source": [
    "from sklearn.decomposition import PCA\n",
    "pca = PCA(n_components=1, random_state=123)\n",
    "pca.fit(X_train[['x','y','z']])\n",
    "X_train['dim_index'] = pca.transform(X_train[['x','y','z']]).flatten()\n",
    "X_train.drop(['x','y','z'], axis=1, inplace=True)"
   ]
  },
  {
   "cell_type": "markdown",
   "metadata": {},
   "source": [
    "#### Standarize"
   ]
  },
  {
   "cell_type": "code",
   "execution_count": 7,
   "metadata": {},
   "outputs": [
    {
     "name": "stderr",
     "output_type": "stream",
     "text": [
      "C:\\Users\\direc\\Anaconda3\\envs\\mybook\\lib\\site-packages\\pandas\\core\\indexing.py:543: SettingWithCopyWarning: \n",
      "A value is trying to be set on a copy of a slice from a DataFrame.\n",
      "Try using .loc[row_indexer,col_indexer] = value instead\n",
      "\n",
      "See the caveats in the documentation: http://pandas.pydata.org/pandas-docs/stable/indexing.html#indexing-view-versus-copy\n",
      "  self.obj[item] = s\n"
     ]
    }
   ],
   "source": [
    "numerical_features = ['carat', 'depth', 'table', 'dim_index']\n",
    "from sklearn.preprocessing import StandardScaler\n",
    "scaler = StandardScaler()\n",
    "scaler.fit(X_train[numerical_features])\n",
    "X_train.loc[:, numerical_features] = scaler.transform(X_train[numerical_features])"
   ]
  },
  {
   "cell_type": "markdown",
   "metadata": {},
   "source": [
    "### Building the MLP for predicting diamond prices"
   ]
  },
  {
   "cell_type": "code",
   "execution_count": 8,
   "metadata": {},
   "outputs": [
    {
     "name": "stderr",
     "output_type": "stream",
     "text": [
      "C:\\Users\\direc\\Anaconda3\\envs\\mybook\\lib\\site-packages\\h5py\\__init__.py:36: FutureWarning: Conversion of the second argument of issubdtype from `float` to `np.floating` is deprecated. In future, it will be treated as `np.float64 == np.dtype(float).type`.\n",
      "  from ._conv import register_converters as _register_converters\n",
      "Using TensorFlow backend.\n"
     ]
    }
   ],
   "source": [
    "from keras.models import Sequential\n",
    "nn_reg = Sequential()"
   ]
  },
  {
   "cell_type": "code",
   "execution_count": 9,
   "metadata": {},
   "outputs": [],
   "source": [
    "from keras.layers import Dense"
   ]
  },
  {
   "cell_type": "code",
   "execution_count": 10,
   "metadata": {},
   "outputs": [],
   "source": [
    "n_input = X_train.shape[1]\n",
    "n_hidden1 = 32\n",
    "# first hidden layer\n",
    "nn_reg.add(Dense(units=n_hidden1, activation='relu', input_shape=(n_input,)))"
   ]
  },
  {
   "cell_type": "code",
   "execution_count": 11,
   "metadata": {},
   "outputs": [],
   "source": [
    "n_hidden2 = 16\n",
    "n_hidden3 = 8\n",
    "# add second hidden layer\n",
    "nn_reg.add(Dense(units=n_hidden2, activation='relu'))\n",
    "# add third hidden layer\n",
    "nn_reg.add(Dense(units=n_hidden3, activation='relu'))"
   ]
  },
  {
   "cell_type": "code",
   "execution_count": 12,
   "metadata": {},
   "outputs": [],
   "source": [
    "# output layer\n",
    "nn_reg.add(Dense(units=1, activation=None))"
   ]
  },
  {
   "cell_type": "code",
   "execution_count": 13,
   "metadata": {
    "scrolled": true
   },
   "outputs": [
    {
     "data": {
      "text/plain": [
       "array([[ 0.04266632],\n",
       "       [-0.02656533],\n",
       "       [ 0.24695258],\n",
       "       [ 0.0238365 ],\n",
       "       [ 0.06252444]], dtype=float32)"
      ]
     },
     "execution_count": 13,
     "metadata": {},
     "output_type": "execute_result"
    }
   ],
   "source": [
    "nn_reg.predict(X_train.iloc[:5,:])"
   ]
  },
  {
   "cell_type": "markdown",
   "metadata": {},
   "source": [
    "## Training the neural network"
   ]
  },
  {
   "cell_type": "code",
   "execution_count": 14,
   "metadata": {},
   "outputs": [],
   "source": [
    "## compiling step\n",
    "nn_reg.compile(loss='mean_squared_error', optimizer='adam')"
   ]
  },
  {
   "cell_type": "code",
   "execution_count": 15,
   "metadata": {},
   "outputs": [
    {
     "name": "stdout",
     "output_type": "stream",
     "text": [
      "_________________________________________________________________\n",
      "Layer (type)                 Output Shape              Param #   \n",
      "=================================================================\n",
      "dense_1 (Dense)              (None, 32)                704       \n",
      "_________________________________________________________________\n",
      "dense_2 (Dense)              (None, 16)                528       \n",
      "_________________________________________________________________\n",
      "dense_3 (Dense)              (None, 8)                 136       \n",
      "_________________________________________________________________\n",
      "dense_4 (Dense)              (None, 1)                 9         \n",
      "=================================================================\n",
      "Total params: 1,377\n",
      "Trainable params: 1,377\n",
      "Non-trainable params: 0\n",
      "_________________________________________________________________\n"
     ]
    }
   ],
   "source": [
    "nn_reg.summary()"
   ]
  },
  {
   "cell_type": "code",
   "execution_count": 16,
   "metadata": {
    "scrolled": true
   },
   "outputs": [
    {
     "name": "stdout",
     "output_type": "stream",
     "text": [
      "Epoch 1/50\n",
      "48537/48537 [==============================] - 1s 17us/step - loss: 14847084.0002\n",
      "Epoch 2/50\n",
      "48537/48537 [==============================] - 1s 12us/step - loss: 1650010.2439\n",
      "Epoch 3/50\n",
      "48537/48537 [==============================] - 1s 12us/step - loss: 1132889.1603\n",
      "Epoch 4/50\n",
      "48537/48537 [==============================] - 1s 12us/step - loss: 941221.0584\n",
      "Epoch 5/50\n",
      "48537/48537 [==============================] - 1s 11us/step - loss: 820140.3761\n",
      "Epoch 6/50\n",
      "48537/48537 [==============================] - 1s 11us/step - loss: 743936.7084\n",
      "Epoch 7/50\n",
      "48537/48537 [==============================] - 1s 11us/step - loss: 693411.4133 0s - l - ETA: 0s - loss: 689722.33\n",
      "Epoch 8/50\n",
      "48537/48537 [==============================] - 1s 11us/step - loss: 654896.4973\n",
      "Epoch 9/50\n",
      "48537/48537 [==============================] - 1s 11us/step - loss: 621472.0390\n",
      "Epoch 10/50\n",
      "48537/48537 [==============================] - 1s 11us/step - loss: 591104.1300\n",
      "Epoch 11/50\n",
      "48537/48537 [==============================] - 1s 11us/step - loss: 562093.0518\n",
      "Epoch 12/50\n",
      "48537/48537 [==============================] - 1s 11us/step - loss: 534068.3462\n",
      "Epoch 13/50\n",
      "48537/48537 [==============================] - 1s 11us/step - loss: 510240.1110\n",
      "Epoch 14/50\n",
      "48537/48537 [==============================] - 1s 11us/step - loss: 488705.6377\n",
      "Epoch 15/50\n",
      "48537/48537 [==============================] - 1s 10us/step - loss: 468361.3620\n",
      "Epoch 16/50\n",
      "48537/48537 [==============================] - 1s 10us/step - loss: 450964.9521\n",
      "Epoch 17/50\n",
      "48537/48537 [==============================] - 0s 10us/step - loss: 435089.6676\n",
      "Epoch 18/50\n",
      "48537/48537 [==============================] - 1s 11us/step - loss: 421351.6934\n",
      "Epoch 19/50\n",
      "48537/48537 [==============================] - 0s 10us/step - loss: 409041.3953\n",
      "Epoch 20/50\n",
      "48537/48537 [==============================] - 1s 11us/step - loss: 398335.1805\n",
      "Epoch 21/50\n",
      "48537/48537 [==============================] - 0s 10us/step - loss: 390216.1497\n",
      "Epoch 22/50\n",
      "48537/48537 [==============================] - 1s 11us/step - loss: 381755.2761\n",
      "Epoch 23/50\n",
      "48537/48537 [==============================] - 0s 10us/step - loss: 375540.6912\n",
      "Epoch 24/50\n",
      "48537/48537 [==============================] - 0s 10us/step - loss: 369466.2539\n",
      "Epoch 25/50\n",
      "48537/48537 [==============================] - 1s 12us/step - loss: 363263.3046\n",
      "Epoch 26/50\n",
      "48537/48537 [==============================] - 0s 10us/step - loss: 357571.2683\n",
      "Epoch 27/50\n",
      "48537/48537 [==============================] - 0s 10us/step - loss: 352991.9289\n",
      "Epoch 28/50\n",
      "48537/48537 [==============================] - 0s 10us/step - loss: 349815.0625\n",
      "Epoch 29/50\n",
      "48537/48537 [==============================] - 0s 10us/step - loss: 344984.7475\n",
      "Epoch 30/50\n",
      "48537/48537 [==============================] - 0s 10us/step - loss: 341793.3147\n",
      "Epoch 31/50\n",
      "48537/48537 [==============================] - 0s 10us/step - loss: 339640.3663\n",
      "Epoch 32/50\n",
      "48537/48537 [==============================] - 0s 10us/step - loss: 337867.7768\n",
      "Epoch 33/50\n",
      "48537/48537 [==============================] - 0s 10us/step - loss: 335734.6851\n",
      "Epoch 34/50\n",
      "48537/48537 [==============================] - 1s 10us/step - loss: 333669.7159\n",
      "Epoch 35/50\n",
      "48537/48537 [==============================] - 0s 10us/step - loss: 331802.0143\n",
      "Epoch 36/50\n",
      "48537/48537 [==============================] - 0s 10us/step - loss: 330965.7769\n",
      "Epoch 37/50\n",
      "48537/48537 [==============================] - 0s 10us/step - loss: 329557.9731\n",
      "Epoch 38/50\n",
      "48537/48537 [==============================] - 0s 10us/step - loss: 328509.2382\n",
      "Epoch 39/50\n",
      "48537/48537 [==============================] - 0s 10us/step - loss: 327135.1430\n",
      "Epoch 40/50\n",
      "48537/48537 [==============================] - 0s 10us/step - loss: 326266.1009\n",
      "Epoch 41/50\n",
      "48537/48537 [==============================] - 0s 10us/step - loss: 325331.7269\n",
      "Epoch 42/50\n",
      "48537/48537 [==============================] - 0s 10us/step - loss: 324331.7192\n",
      "Epoch 43/50\n",
      "48537/48537 [==============================] - 0s 10us/step - loss: 324784.9563\n",
      "Epoch 44/50\n",
      "48537/48537 [==============================] - 0s 10us/step - loss: 323129.3312\n",
      "Epoch 45/50\n",
      "48537/48537 [==============================] - 0s 10us/step - loss: 323653.6540\n",
      "Epoch 46/50\n",
      "48537/48537 [==============================] - 0s 10us/step - loss: 322232.0275\n",
      "Epoch 47/50\n",
      "48537/48537 [==============================] - 0s 10us/step - loss: 321751.2520\n",
      "Epoch 48/50\n",
      "48537/48537 [==============================] - 0s 10us/step - loss: 321807.8215\n",
      "Epoch 49/50\n",
      "48537/48537 [==============================] - 0s 10us/step - loss: 321071.8034\n",
      "Epoch 50/50\n",
      "48537/48537 [==============================] - 0s 10us/step - loss: 321248.8389\n"
     ]
    },
    {
     "data": {
      "text/plain": [
       "<keras.callbacks.History at 0x1e05fef8198>"
      ]
     },
     "execution_count": 16,
     "metadata": {},
     "output_type": "execute_result"
    }
   ],
   "source": [
    "batch_size = 64\n",
    "n_epochs = 50\n",
    "nn_reg.fit(X_train, y_train, epochs=n_epochs, batch_size=batch_size)"
   ]
  },
  {
   "cell_type": "markdown",
   "metadata": {},
   "source": [
    "### Transform and scale the testing dataset"
   ]
  },
  {
   "cell_type": "code",
   "execution_count": 17,
   "metadata": {},
   "outputs": [
    {
     "name": "stderr",
     "output_type": "stream",
     "text": [
      "C:\\Users\\direc\\Anaconda3\\envs\\mybook\\lib\\site-packages\\ipykernel_launcher.py:2: SettingWithCopyWarning: \n",
      "A value is trying to be set on a copy of a slice from a DataFrame.\n",
      "Try using .loc[row_indexer,col_indexer] = value instead\n",
      "\n",
      "See the caveats in the documentation: http://pandas.pydata.org/pandas-docs/stable/indexing.html#indexing-view-versus-copy\n",
      "  \n",
      "C:\\Users\\direc\\Anaconda3\\envs\\mybook\\lib\\site-packages\\pandas\\core\\frame.py:3694: SettingWithCopyWarning: \n",
      "A value is trying to be set on a copy of a slice from a DataFrame\n",
      "\n",
      "See the caveats in the documentation: http://pandas.pydata.org/pandas-docs/stable/indexing.html#indexing-view-versus-copy\n",
      "  errors=errors)\n",
      "C:\\Users\\direc\\Anaconda3\\envs\\mybook\\lib\\site-packages\\pandas\\core\\indexing.py:543: SettingWithCopyWarning: \n",
      "A value is trying to be set on a copy of a slice from a DataFrame.\n",
      "Try using .loc[row_indexer,col_indexer] = value instead\n",
      "\n",
      "See the caveats in the documentation: http://pandas.pydata.org/pandas-docs/stable/indexing.html#indexing-view-versus-copy\n",
      "  self.obj[item] = s\n"
     ]
    }
   ],
   "source": [
    "## PCA for dimentionality reduction:\n",
    "X_test['dim_index'] = pca.transform(X_test[['x','y','z']]).flatten()\n",
    "X_test.drop(['x','y','z'], axis=1, inplace=True)\n",
    "## Scale our numerical features so they have zero mean and a variance of one\n",
    "X_test.loc[:, numerical_features] = scaler.transform(X_test[numerical_features])"
   ]
  },
  {
   "cell_type": "code",
   "execution_count": 18,
   "metadata": {},
   "outputs": [
    {
     "name": "stdout",
     "output_type": "stream",
     "text": [
      "Train MSE: 0.316 \n",
      "Test MSE: 0.326\n"
     ]
    }
   ],
   "source": [
    "from sklearn.metrics import mean_squared_error\n",
    "y_pred_train = nn_reg.predict(X_train)\n",
    "y_pred_test = nn_reg.predict(X_test)\n",
    "train_mse = mean_squared_error(y_true=y_train, y_pred=y_pred_train)\n",
    "test_mse = mean_squared_error(y_true=y_test, y_pred=y_pred_test)\n",
    "print(\"Train MSE: {:0.3f} \\nTest MSE: {:0.3f}\".format(train_mse/1e6, test_mse/1e6))"
   ]
  },
  {
   "cell_type": "markdown",
   "metadata": {},
   "source": [
    "### Regularization"
   ]
  },
  {
   "cell_type": "code",
   "execution_count": 19,
   "metadata": {},
   "outputs": [],
   "source": [
    "nn_reg2 = Sequential()\n",
    "n_hidden = 64\n",
    "# hidden layers\n",
    "nn_reg2.add(Dense(units=n_hidden, activation='relu', input_shape=(n_input,)))\n",
    "nn_reg2.add(Dense(units=n_hidden, activation='relu'))\n",
    "nn_reg2.add(Dense(units=n_hidden, activation='relu'))\n",
    "nn_reg2.add(Dense(units=n_hidden, activation='relu'))\n",
    "nn_reg2.add(Dense(units=n_hidden, activation='relu'))\n",
    "nn_reg2.add(Dense(units=n_hidden, activation='relu'))\n",
    "# output layer\n",
    "nn_reg2.add(Dense(units=1, activation=None))"
   ]
  },
  {
   "cell_type": "code",
   "execution_count": 20,
   "metadata": {},
   "outputs": [],
   "source": [
    "nn_reg2.compile(loss='mean_squared_error', optimizer='adam', metrics=['mse', 'mae'])"
   ]
  },
  {
   "cell_type": "code",
   "execution_count": 21,
   "metadata": {},
   "outputs": [
    {
     "name": "stdout",
     "output_type": "stream",
     "text": [
      "_________________________________________________________________\n",
      "Layer (type)                 Output Shape              Param #   \n",
      "=================================================================\n",
      "dense_5 (Dense)              (None, 64)                1408      \n",
      "_________________________________________________________________\n",
      "dense_6 (Dense)              (None, 64)                4160      \n",
      "_________________________________________________________________\n",
      "dense_7 (Dense)              (None, 64)                4160      \n",
      "_________________________________________________________________\n",
      "dense_8 (Dense)              (None, 64)                4160      \n",
      "_________________________________________________________________\n",
      "dense_9 (Dense)              (None, 64)                4160      \n",
      "_________________________________________________________________\n",
      "dense_10 (Dense)             (None, 64)                4160      \n",
      "_________________________________________________________________\n",
      "dense_11 (Dense)             (None, 1)                 65        \n",
      "=================================================================\n",
      "Total params: 22,273\n",
      "Trainable params: 22,273\n",
      "Non-trainable params: 0\n",
      "_________________________________________________________________\n"
     ]
    }
   ],
   "source": [
    "nn_reg2.summary()"
   ]
  },
  {
   "cell_type": "code",
   "execution_count": 22,
   "metadata": {
    "scrolled": true
   },
   "outputs": [
    {
     "name": "stdout",
     "output_type": "stream",
     "text": [
      "Train on 43683 samples, validate on 4854 samples\n",
      "Epoch 1/300\n",
      "43683/43683 [==============================] - 1s 27us/step - loss: 4292592.8383 - mean_squared_error: 4292592.8383 - mean_absolute_error: 991.7444 - val_loss: 875994.5605 - val_mean_squared_error: 875994.5605 - val_mean_absolute_error: 475.6479\n",
      "Epoch 2/300\n",
      "43683/43683 [==============================] - 1s 18us/step - loss: 700351.8185 - mean_squared_error: 700351.8185 - mean_absolute_error: 436.9139 - val_loss: 650639.5746 - val_mean_squared_error: 650639.5746 - val_mean_absolute_error: 423.1706\n",
      "Epoch 3/300\n",
      "43683/43683 [==============================] - 1s 17us/step - loss: 547684.9676 - mean_squared_error: 547684.9676 - mean_absolute_error: 394.5040 - val_loss: 505167.5236 - val_mean_squared_error: 505167.5236 - val_mean_absolute_error: 377.1472\n",
      "Epoch 4/300\n",
      "43683/43683 [==============================] - 1s 17us/step - loss: 451928.3013 - mean_squared_error: 451928.3013 - mean_absolute_error: 369.0824 - val_loss: 563220.2056 - val_mean_squared_error: 563220.2056 - val_mean_absolute_error: 442.3378\n",
      "Epoch 5/300\n",
      "43683/43683 [==============================] - 1s 17us/step - loss: 411684.7439 - mean_squared_error: 411684.7439 - mean_absolute_error: 356.4922 - val_loss: 400104.7592 - val_mean_squared_error: 400104.7592 - val_mean_absolute_error: 347.1781\n",
      "Epoch 6/300\n",
      "43683/43683 [==============================] - 1s 16us/step - loss: 389244.6063 - mean_squared_error: 389244.6063 - mean_absolute_error: 347.4203 - val_loss: 410083.0150 - val_mean_squared_error: 410083.0150 - val_mean_absolute_error: 339.6609\n",
      "Epoch 7/300\n",
      "43683/43683 [==============================] - 1s 17us/step - loss: 373414.2393 - mean_squared_error: 373414.2393 - mean_absolute_error: 340.7043 - val_loss: 377220.5934 - val_mean_squared_error: 377220.5934 - val_mean_absolute_error: 337.9004\n",
      "Epoch 8/300\n",
      "43683/43683 [==============================] - 1s 17us/step - loss: 362969.5862 - mean_squared_error: 362969.5862 - mean_absolute_error: 336.1992 - val_loss: 366435.1911 - val_mean_squared_error: 366435.1911 - val_mean_absolute_error: 332.2324\n",
      "Epoch 9/300\n",
      "43683/43683 [==============================] - 1s 16us/step - loss: 350814.2268 - mean_squared_error: 350814.2268 - mean_absolute_error: 329.7506 - val_loss: 373218.6976 - val_mean_squared_error: 373218.6976 - val_mean_absolute_error: 352.7159\n",
      "Epoch 10/300\n",
      "43683/43683 [==============================] - 1s 17us/step - loss: 351992.1858 - mean_squared_error: 351992.1858 - mean_absolute_error: 330.6740 - val_loss: 346291.3818 - val_mean_squared_error: 346291.3818 - val_mean_absolute_error: 320.5538\n",
      "Epoch 11/300\n",
      "43683/43683 [==============================] - 1s 16us/step - loss: 341087.5633 - mean_squared_error: 341087.5633 - mean_absolute_error: 323.6747 - val_loss: 431677.3577 - val_mean_squared_error: 431677.3577 - val_mean_absolute_error: 365.7633\n",
      "Epoch 12/300\n",
      "43683/43683 [==============================] - 1s 17us/step - loss: 342324.8462 - mean_squared_error: 342324.8462 - mean_absolute_error: 325.3621 - val_loss: 356871.8571 - val_mean_squared_error: 356871.8571 - val_mean_absolute_error: 325.1779\n",
      "Epoch 13/300\n",
      "43683/43683 [==============================] - 1s 17us/step - loss: 336737.9270 - mean_squared_error: 336737.9270 - mean_absolute_error: 320.7834 - val_loss: 340418.6874 - val_mean_squared_error: 340418.6874 - val_mean_absolute_error: 325.6574\n",
      "Epoch 14/300\n",
      "43683/43683 [==============================] - 1s 17us/step - loss: 334078.1496 - mean_squared_error: 334078.1496 - mean_absolute_error: 318.9647 - val_loss: 339091.4876 - val_mean_squared_error: 339091.4876 - val_mean_absolute_error: 316.9585\n",
      "Epoch 15/300\n",
      "43683/43683 [==============================] - 1s 17us/step - loss: 328146.7000 - mean_squared_error: 328146.7000 - mean_absolute_error: 317.6401 - val_loss: 425529.1175 - val_mean_squared_error: 425529.1175 - val_mean_absolute_error: 378.3587\n",
      "Epoch 16/300\n",
      "43683/43683 [==============================] - 1s 17us/step - loss: 334238.5826 - mean_squared_error: 334238.5826 - mean_absolute_error: 321.1742 - val_loss: 422376.3261 - val_mean_squared_error: 422376.3261 - val_mean_absolute_error: 340.4379\n",
      "Epoch 17/300\n",
      "43683/43683 [==============================] - 1s 17us/step - loss: 325204.1088 - mean_squared_error: 325204.1088 - mean_absolute_error: 315.0007 - val_loss: 329475.4621 - val_mean_squared_error: 329475.4621 - val_mean_absolute_error: 309.9137\n",
      "Epoch 18/300\n",
      "43683/43683 [==============================] - 1s 17us/step - loss: 319944.5805 - mean_squared_error: 319944.5805 - mean_absolute_error: 312.7523 - val_loss: 343158.9180 - val_mean_squared_error: 343158.9180 - val_mean_absolute_error: 323.5964\n",
      "Epoch 19/300\n",
      "43683/43683 [==============================] - 1s 17us/step - loss: 322366.4046 - mean_squared_error: 322366.4046 - mean_absolute_error: 313.5768 - val_loss: 331271.9456 - val_mean_squared_error: 331271.9456 - val_mean_absolute_error: 312.7838\n",
      "Epoch 20/300\n",
      "43683/43683 [==============================] - 1s 17us/step - loss: 317230.9311 - mean_squared_error: 317230.9311 - mean_absolute_error: 311.2470 - val_loss: 427284.5542 - val_mean_squared_error: 427284.5542 - val_mean_absolute_error: 389.6707\n",
      "Epoch 21/300\n",
      "43683/43683 [==============================] - 1s 17us/step - loss: 323900.9226 - mean_squared_error: 323900.9226 - mean_absolute_error: 314.9398 - val_loss: 330818.5810 - val_mean_squared_error: 330818.5810 - val_mean_absolute_error: 312.6710\n",
      "Epoch 22/300\n",
      "43683/43683 [==============================] - 1s 17us/step - loss: 313465.3182 - mean_squared_error: 313465.3182 - mean_absolute_error: 308.3163 - val_loss: 353836.4950 - val_mean_squared_error: 353836.4950 - val_mean_absolute_error: 324.2865\n",
      "Epoch 23/300\n",
      "43683/43683 [==============================] - 1s 17us/step - loss: 316488.0224 - mean_squared_error: 316488.0224 - mean_absolute_error: 308.4260 - val_loss: 316512.9396 - val_mean_squared_error: 316512.9396 - val_mean_absolute_error: 302.3540\n",
      "Epoch 24/300\n",
      "43683/43683 [==============================] - 1s 17us/step - loss: 315079.1571 - mean_squared_error: 315079.1571 - mean_absolute_error: 309.6875 - val_loss: 358130.5703 - val_mean_squared_error: 358130.5703 - val_mean_absolute_error: 326.3320\n",
      "Epoch 25/300\n",
      "43683/43683 [==============================] - 1s 17us/step - loss: 310134.3069 - mean_squared_error: 310134.3069 - mean_absolute_error: 306.1633 - val_loss: 361528.3084 - val_mean_squared_error: 361528.3084 - val_mean_absolute_error: 309.4348\n",
      "Epoch 26/300\n",
      "43683/43683 [==============================] - 1s 17us/step - loss: 313917.4604 - mean_squared_error: 313917.4604 - mean_absolute_error: 308.3298 - val_loss: 321188.1135 - val_mean_squared_error: 321188.1135 - val_mean_absolute_error: 306.2270\n",
      "Epoch 27/300\n",
      "43683/43683 [==============================] - 1s 18us/step - loss: 311294.4944 - mean_squared_error: 311294.4944 - mean_absolute_error: 307.5251 - val_loss: 329176.4724 - val_mean_squared_error: 329176.4724 - val_mean_absolute_error: 308.5506\n",
      "Epoch 28/300\n",
      "43683/43683 [==============================] - 1s 18us/step - loss: 306644.9080 - mean_squared_error: 306644.9080 - mean_absolute_error: 304.7088 - val_loss: 319083.6685 - val_mean_squared_error: 319083.6685 - val_mean_absolute_error: 300.7375\n",
      "Epoch 29/300\n",
      "43683/43683 [==============================] - 1s 18us/step - loss: 305674.1313 - mean_squared_error: 305674.1313 - mean_absolute_error: 304.1909 - val_loss: 324557.6835 - val_mean_squared_error: 324557.6835 - val_mean_absolute_error: 300.7135\n",
      "Epoch 30/300\n",
      "43683/43683 [==============================] - 1s 17us/step - loss: 305460.1454 - mean_squared_error: 305460.1454 - mean_absolute_error: 303.6566 - val_loss: 338494.6227 - val_mean_squared_error: 338494.6227 - val_mean_absolute_error: 326.7792\n",
      "Epoch 31/300\n",
      "43683/43683 [==============================] - 1s 18us/step - loss: 304398.2614 - mean_squared_error: 304398.2614 - mean_absolute_error: 302.1433 - val_loss: 333339.6936 - val_mean_squared_error: 333339.6936 - val_mean_absolute_error: 307.5417\n",
      "Epoch 32/300\n",
      "43683/43683 [==============================] - 1s 17us/step - loss: 300562.1415 - mean_squared_error: 300562.1415 - mean_absolute_error: 300.5364 - val_loss: 318635.0977 - val_mean_squared_error: 318635.0977 - val_mean_absolute_error: 293.2506\n"
     ]
    },
    {
     "name": "stdout",
     "output_type": "stream",
     "text": [
      "Epoch 33/300\n",
      "43683/43683 [==============================] - 1s 16us/step - loss: 301733.6106 - mean_squared_error: 301733.6106 - mean_absolute_error: 301.2029 - val_loss: 322727.9048 - val_mean_squared_error: 322727.9048 - val_mean_absolute_error: 305.7510\n",
      "Epoch 34/300\n",
      "43683/43683 [==============================] - 1s 16us/step - loss: 298780.3106 - mean_squared_error: 298780.3106 - mean_absolute_error: 299.5540 - val_loss: 349982.1332 - val_mean_squared_error: 349982.1332 - val_mean_absolute_error: 308.8772\n",
      "Epoch 35/300\n",
      "43683/43683 [==============================] - 1s 17us/step - loss: 302769.5348 - mean_squared_error: 302769.5348 - mean_absolute_error: 301.0200 - val_loss: 320525.5455 - val_mean_squared_error: 320525.5455 - val_mean_absolute_error: 304.9789\n",
      "Epoch 36/300\n",
      "43683/43683 [==============================] - 1s 16us/step - loss: 302760.2721 - mean_squared_error: 302760.2721 - mean_absolute_error: 300.5522 - val_loss: 375372.1213 - val_mean_squared_error: 375372.1213 - val_mean_absolute_error: 333.8208\n",
      "Epoch 37/300\n",
      "43683/43683 [==============================] - 1s 17us/step - loss: 300715.9169 - mean_squared_error: 300715.9169 - mean_absolute_error: 299.9879 - val_loss: 316939.2261 - val_mean_squared_error: 316939.2261 - val_mean_absolute_error: 293.4043\n",
      "Epoch 38/300\n",
      "43683/43683 [==============================] - 1s 16us/step - loss: 296854.4293 - mean_squared_error: 296854.4293 - mean_absolute_error: 296.7394 - val_loss: 322360.0557 - val_mean_squared_error: 322360.0557 - val_mean_absolute_error: 300.5046\n",
      "Epoch 39/300\n",
      "43683/43683 [==============================] - 1s 18us/step - loss: 295564.1932 - mean_squared_error: 295564.1932 - mean_absolute_error: 297.6793 - val_loss: 363077.7836 - val_mean_squared_error: 363077.7836 - val_mean_absolute_error: 331.7615\n",
      "Epoch 40/300\n",
      "43683/43683 [==============================] - 1s 17us/step - loss: 299980.9128 - mean_squared_error: 299980.9128 - mean_absolute_error: 301.3857 - val_loss: 329281.7664 - val_mean_squared_error: 329281.7664 - val_mean_absolute_error: 312.3549\n",
      "Epoch 41/300\n",
      "43683/43683 [==============================] - 1s 17us/step - loss: 295126.7686 - mean_squared_error: 295126.7686 - mean_absolute_error: 297.7610 - val_loss: 411620.1062 - val_mean_squared_error: 411620.1062 - val_mean_absolute_error: 337.9506\n",
      "Epoch 42/300\n",
      "43683/43683 [==============================] - 1s 17us/step - loss: 294513.9842 - mean_squared_error: 294513.9842 - mean_absolute_error: 297.4743 - val_loss: 328441.7043 - val_mean_squared_error: 328441.7043 - val_mean_absolute_error: 303.3634\n",
      "Epoch 43/300\n",
      "43683/43683 [==============================] - 1s 17us/step - loss: 298644.1604 - mean_squared_error: 298644.1604 - mean_absolute_error: 299.4933 - val_loss: 325188.5293 - val_mean_squared_error: 325188.5293 - val_mean_absolute_error: 324.3268\n",
      "Epoch 44/300\n",
      "43683/43683 [==============================] - 1s 16us/step - loss: 296870.9210 - mean_squared_error: 296870.9210 - mean_absolute_error: 298.0298 - val_loss: 336260.7421 - val_mean_squared_error: 336260.7421 - val_mean_absolute_error: 313.7520\n",
      "Epoch 45/300\n",
      "43683/43683 [==============================] - 1s 17us/step - loss: 289264.0319 - mean_squared_error: 289264.0319 - mean_absolute_error: 294.0246 - val_loss: 325563.7951 - val_mean_squared_error: 325563.7951 - val_mean_absolute_error: 306.0411\n",
      "Epoch 46/300\n",
      "43683/43683 [==============================] - 1s 18us/step - loss: 301059.1552 - mean_squared_error: 301059.1552 - mean_absolute_error: 299.4389 - val_loss: 307318.5488 - val_mean_squared_error: 307318.5488 - val_mean_absolute_error: 296.7102\n",
      "Epoch 47/300\n",
      "43683/43683 [==============================] - 1s 18us/step - loss: 288301.6685 - mean_squared_error: 288301.6685 - mean_absolute_error: 292.5762 - val_loss: 331430.4075 - val_mean_squared_error: 331430.4075 - val_mean_absolute_error: 308.5906\n",
      "Epoch 48/300\n",
      "43683/43683 [==============================] - 1s 18us/step - loss: 292456.4522 - mean_squared_error: 292456.4522 - mean_absolute_error: 295.4615 - val_loss: 307719.4353 - val_mean_squared_error: 307719.4353 - val_mean_absolute_error: 295.5311\n",
      "Epoch 49/300\n",
      "43683/43683 [==============================] - 1s 17us/step - loss: 288464.4703 - mean_squared_error: 288464.4703 - mean_absolute_error: 291.9162 - val_loss: 319710.9590 - val_mean_squared_error: 319710.9590 - val_mean_absolute_error: 311.3207\n",
      "Epoch 50/300\n",
      "43683/43683 [==============================] - 1s 17us/step - loss: 286758.0420 - mean_squared_error: 286758.0420 - mean_absolute_error: 291.5358 - val_loss: 336208.1724 - val_mean_squared_error: 336208.1724 - val_mean_absolute_error: 299.8623\n",
      "Epoch 51/300\n",
      "43683/43683 [==============================] - 1s 17us/step - loss: 293961.5126 - mean_squared_error: 293961.5126 - mean_absolute_error: 297.2817 - val_loss: 308188.5135 - val_mean_squared_error: 308188.5135 - val_mean_absolute_error: 295.2288\n",
      "Epoch 52/300\n",
      "43683/43683 [==============================] - 1s 17us/step - loss: 296209.0667 - mean_squared_error: 296209.0667 - mean_absolute_error: 297.2784 - val_loss: 307717.4054 - val_mean_squared_error: 307717.4054 - val_mean_absolute_error: 296.8788\n",
      "Epoch 53/300\n",
      "43683/43683 [==============================] - 1s 17us/step - loss: 290098.4405 - mean_squared_error: 290098.4405 - mean_absolute_error: 293.6914 - val_loss: 307052.0895 - val_mean_squared_error: 307052.0895 - val_mean_absolute_error: 292.0753\n",
      "Epoch 54/300\n",
      "43683/43683 [==============================] - 1s 17us/step - loss: 286179.0416 - mean_squared_error: 286179.0416 - mean_absolute_error: 290.3293 - val_loss: 308461.7502 - val_mean_squared_error: 308461.7502 - val_mean_absolute_error: 287.2456\n",
      "Epoch 55/300\n",
      "43683/43683 [==============================] - 1s 17us/step - loss: 287716.9606 - mean_squared_error: 287716.9606 - mean_absolute_error: 291.4762 - val_loss: 360658.4293 - val_mean_squared_error: 360658.4293 - val_mean_absolute_error: 328.8928\n",
      "Epoch 56/300\n",
      "43683/43683 [==============================] - 1s 17us/step - loss: 288502.9510 - mean_squared_error: 288502.9510 - mean_absolute_error: 294.6979 - val_loss: 328715.8654 - val_mean_squared_error: 328715.8654 - val_mean_absolute_error: 297.9005\n",
      "Epoch 57/300\n",
      "43683/43683 [==============================] - 1s 17us/step - loss: 289950.4644 - mean_squared_error: 289950.4644 - mean_absolute_error: 292.0364 - val_loss: 316061.6584 - val_mean_squared_error: 316061.6584 - val_mean_absolute_error: 300.7580\n",
      "Epoch 58/300\n",
      "43683/43683 [==============================] - 1s 18us/step - loss: 287188.9550 - mean_squared_error: 287188.9550 - mean_absolute_error: 291.3483 - val_loss: 333862.5221 - val_mean_squared_error: 333862.5221 - val_mean_absolute_error: 292.3806\n",
      "Epoch 59/300\n",
      "43683/43683 [==============================] - 1s 17us/step - loss: 282192.6463 - mean_squared_error: 282192.6463 - mean_absolute_error: 288.3684 - val_loss: 386843.0083 - val_mean_squared_error: 386843.0083 - val_mean_absolute_error: 352.6359\n",
      "Epoch 60/300\n",
      "43683/43683 [==============================] - 1s 17us/step - loss: 290613.8840 - mean_squared_error: 290613.8840 - mean_absolute_error: 293.9184 - val_loss: 316614.6069 - val_mean_squared_error: 316614.6069 - val_mean_absolute_error: 307.3640\n",
      "Epoch 61/300\n",
      "43683/43683 [==============================] - 1s 18us/step - loss: 284603.2463 - mean_squared_error: 284603.2463 - mean_absolute_error: 290.0365 - val_loss: 307064.3744 - val_mean_squared_error: 307064.3744 - val_mean_absolute_error: 284.0534\n",
      "Epoch 62/300\n",
      "43683/43683 [==============================] - 1s 17us/step - loss: 285115.4846 - mean_squared_error: 285115.4846 - mean_absolute_error: 290.5161 - val_loss: 320466.3781 - val_mean_squared_error: 320466.3781 - val_mean_absolute_error: 303.0431\n",
      "Epoch 63/300\n",
      "43683/43683 [==============================] - 1s 17us/step - loss: 281564.1147 - mean_squared_error: 281564.1147 - mean_absolute_error: 289.9104 - val_loss: 335946.6973 - val_mean_squared_error: 335946.6973 - val_mean_absolute_error: 290.8261\n",
      "Epoch 64/300\n",
      "43683/43683 [==============================] - 1s 18us/step - loss: 283107.3706 - mean_squared_error: 283107.3706 - mean_absolute_error: 288.3093 - val_loss: 308135.5343 - val_mean_squared_error: 308135.5343 - val_mean_absolute_error: 287.0124\n"
     ]
    },
    {
     "name": "stdout",
     "output_type": "stream",
     "text": [
      "Epoch 65/300\n",
      "43683/43683 [==============================] - 1s 16us/step - loss: 283710.7150 - mean_squared_error: 283710.7150 - mean_absolute_error: 289.5656 - val_loss: 308062.1341 - val_mean_squared_error: 308062.1341 - val_mean_absolute_error: 288.6037\n",
      "Epoch 66/300\n",
      "43683/43683 [==============================] - 1s 16us/step - loss: 282951.5501 - mean_squared_error: 282951.5501 - mean_absolute_error: 289.5953 - val_loss: 343211.9587 - val_mean_squared_error: 343211.9587 - val_mean_absolute_error: 325.4067\n",
      "Epoch 67/300\n",
      "43683/43683 [==============================] - 1s 16us/step - loss: 280418.0254 - mean_squared_error: 280418.0254 - mean_absolute_error: 287.1502 - val_loss: 306794.4181 - val_mean_squared_error: 306794.4181 - val_mean_absolute_error: 293.2437\n",
      "Epoch 68/300\n",
      "43683/43683 [==============================] - 1s 17us/step - loss: 282411.3606 - mean_squared_error: 282411.3606 - mean_absolute_error: 288.7339 - val_loss: 314382.6687 - val_mean_squared_error: 314382.6687 - val_mean_absolute_error: 291.0562\n",
      "Epoch 69/300\n",
      "43683/43683 [==============================] - 1s 17us/step - loss: 282129.4113 - mean_squared_error: 282129.4113 - mean_absolute_error: 289.0510 - val_loss: 304741.0336 - val_mean_squared_error: 304741.0336 - val_mean_absolute_error: 292.9716\n",
      "Epoch 70/300\n",
      "43683/43683 [==============================] - 1s 16us/step - loss: 277281.0906 - mean_squared_error: 277281.0906 - mean_absolute_error: 285.4853 - val_loss: 351718.2442 - val_mean_squared_error: 351718.2442 - val_mean_absolute_error: 314.4107\n",
      "Epoch 71/300\n",
      "43683/43683 [==============================] - 1s 16us/step - loss: 279735.0208 - mean_squared_error: 279735.0208 - mean_absolute_error: 287.4679 - val_loss: 323628.1614 - val_mean_squared_error: 323628.1614 - val_mean_absolute_error: 309.8911\n",
      "Epoch 72/300\n",
      "43683/43683 [==============================] - 1s 17us/step - loss: 279876.2745 - mean_squared_error: 279876.2745 - mean_absolute_error: 287.4728 - val_loss: 310749.6046 - val_mean_squared_error: 310749.6046 - val_mean_absolute_error: 292.7513\n",
      "Epoch 73/300\n",
      "43683/43683 [==============================] - 1s 17us/step - loss: 278566.5986 - mean_squared_error: 278566.5986 - mean_absolute_error: 286.2556 - val_loss: 321573.3157 - val_mean_squared_error: 321573.3157 - val_mean_absolute_error: 302.5905\n",
      "Epoch 74/300\n",
      "43683/43683 [==============================] - 1s 16us/step - loss: 285046.7994 - mean_squared_error: 285046.7994 - mean_absolute_error: 289.8300 - val_loss: 313941.6427 - val_mean_squared_error: 313941.6427 - val_mean_absolute_error: 296.6638\n",
      "Epoch 75/300\n",
      "43683/43683 [==============================] - 1s 17us/step - loss: 279838.5044 - mean_squared_error: 279838.5044 - mean_absolute_error: 287.3356 - val_loss: 303576.5595 - val_mean_squared_error: 303576.5595 - val_mean_absolute_error: 290.7055\n",
      "Epoch 76/300\n",
      "43683/43683 [==============================] - 1s 17us/step - loss: 275699.5737 - mean_squared_error: 275699.5737 - mean_absolute_error: 285.2473 - val_loss: 307994.8345 - val_mean_squared_error: 307994.8345 - val_mean_absolute_error: 295.2366\n",
      "Epoch 77/300\n",
      "43683/43683 [==============================] - 1s 17us/step - loss: 278006.2673 - mean_squared_error: 278006.2673 - mean_absolute_error: 287.4495 - val_loss: 304652.8362 - val_mean_squared_error: 304652.8362 - val_mean_absolute_error: 291.5409\n",
      "Epoch 78/300\n",
      "43683/43683 [==============================] - 1s 16us/step - loss: 273697.7711 - mean_squared_error: 273697.7711 - mean_absolute_error: 284.8835 - val_loss: 317631.9810 - val_mean_squared_error: 317631.9810 - val_mean_absolute_error: 292.4407\n",
      "Epoch 79/300\n",
      "43683/43683 [==============================] - 1s 17us/step - loss: 277695.9102 - mean_squared_error: 277695.9102 - mean_absolute_error: 286.4407 - val_loss: 302273.0731 - val_mean_squared_error: 302273.0731 - val_mean_absolute_error: 285.9231\n",
      "Epoch 80/300\n",
      "43683/43683 [==============================] - 1s 17us/step - loss: 279835.0475 - mean_squared_error: 279835.0475 - mean_absolute_error: 287.0606 - val_loss: 305604.9983 - val_mean_squared_error: 305604.9983 - val_mean_absolute_error: 287.7398\n",
      "Epoch 81/300\n",
      "43683/43683 [==============================] - 1s 17us/step - loss: 276881.2988 - mean_squared_error: 276881.2988 - mean_absolute_error: 285.2578 - val_loss: 307620.0749 - val_mean_squared_error: 307620.0749 - val_mean_absolute_error: 290.6676\n",
      "Epoch 82/300\n",
      "43683/43683 [==============================] - 1s 17us/step - loss: 274350.1041 - mean_squared_error: 274350.1041 - mean_absolute_error: 283.9620 - val_loss: 318444.0863 - val_mean_squared_error: 318444.0863 - val_mean_absolute_error: 297.9190\n",
      "Epoch 83/300\n",
      "43683/43683 [==============================] - 1s 18us/step - loss: 276488.7079 - mean_squared_error: 276488.7079 - mean_absolute_error: 284.8537 - val_loss: 310507.1347 - val_mean_squared_error: 310507.1347 - val_mean_absolute_error: 291.0266\n",
      "Epoch 84/300\n",
      "43683/43683 [==============================] - 1s 17us/step - loss: 273608.0416 - mean_squared_error: 273608.0416 - mean_absolute_error: 284.0780 - val_loss: 301528.2835 - val_mean_squared_error: 301528.2835 - val_mean_absolute_error: 290.4332\n",
      "Epoch 85/300\n",
      "43683/43683 [==============================] - 1s 17us/step - loss: 273807.7423 - mean_squared_error: 273807.7423 - mean_absolute_error: 283.6146 - val_loss: 325174.3005 - val_mean_squared_error: 325174.3005 - val_mean_absolute_error: 309.2058\n",
      "Epoch 86/300\n",
      "43683/43683 [==============================] - 1s 17us/step - loss: 277463.5936 - mean_squared_error: 277463.5936 - mean_absolute_error: 285.7144 - val_loss: 329416.8855 - val_mean_squared_error: 329416.8855 - val_mean_absolute_error: 300.3040\n",
      "Epoch 87/300\n",
      "43683/43683 [==============================] - 1s 18us/step - loss: 272393.7776 - mean_squared_error: 272393.7776 - mean_absolute_error: 283.0615 - val_loss: 306045.4694 - val_mean_squared_error: 306045.4694 - val_mean_absolute_error: 288.5692\n",
      "Epoch 88/300\n",
      "43683/43683 [==============================] - 1s 17us/step - loss: 277411.0697 - mean_squared_error: 277411.0697 - mean_absolute_error: 286.5316 - val_loss: 327610.3841 - val_mean_squared_error: 327610.3841 - val_mean_absolute_error: 314.7560\n",
      "Epoch 89/300\n",
      "43683/43683 [==============================] - 1s 17us/step - loss: 275029.9652 - mean_squared_error: 275029.9652 - mean_absolute_error: 285.2528 - val_loss: 361182.2014 - val_mean_squared_error: 361182.2014 - val_mean_absolute_error: 329.2012\n",
      "Epoch 90/300\n",
      "43683/43683 [==============================] - 1s 17us/step - loss: 273170.9247 - mean_squared_error: 273170.9247 - mean_absolute_error: 284.1040 - val_loss: 332049.5241 - val_mean_squared_error: 332049.5241 - val_mean_absolute_error: 304.1995\n",
      "Epoch 91/300\n",
      "43683/43683 [==============================] - 1s 17us/step - loss: 272588.8859 - mean_squared_error: 272588.8859 - mean_absolute_error: 285.3840 - val_loss: 305725.2408 - val_mean_squared_error: 305725.2408 - val_mean_absolute_error: 288.7831\n",
      "Epoch 92/300\n",
      "43683/43683 [==============================] - 1s 17us/step - loss: 269012.4875 - mean_squared_error: 269012.4875 - mean_absolute_error: 281.3428 - val_loss: 356304.9956 - val_mean_squared_error: 356304.9956 - val_mean_absolute_error: 325.2262\n",
      "Epoch 93/300\n",
      "43683/43683 [==============================] - 1s 17us/step - loss: 270457.7497 - mean_squared_error: 270457.7497 - mean_absolute_error: 283.0357 - val_loss: 305712.0433 - val_mean_squared_error: 305712.0433 - val_mean_absolute_error: 292.9605\n",
      "Epoch 94/300\n",
      "43683/43683 [==============================] - 1s 18us/step - loss: 268775.8737 - mean_squared_error: 268775.8737 - mean_absolute_error: 282.1257 - val_loss: 373332.5824 - val_mean_squared_error: 373332.5824 - val_mean_absolute_error: 316.5192\n",
      "Epoch 95/300\n",
      "43683/43683 [==============================] - 1s 17us/step - loss: 273300.7035 - mean_squared_error: 273300.7035 - mean_absolute_error: 282.4270 - val_loss: 321401.0742 - val_mean_squared_error: 321401.0742 - val_mean_absolute_error: 299.3729\n",
      "Epoch 96/300\n",
      "43683/43683 [==============================] - 1s 18us/step - loss: 276769.9541 - mean_squared_error: 276769.9541 - mean_absolute_error: 286.8055 - val_loss: 308563.7945 - val_mean_squared_error: 308563.7945 - val_mean_absolute_error: 299.5118\n"
     ]
    },
    {
     "name": "stdout",
     "output_type": "stream",
     "text": [
      "Epoch 97/300\n",
      "43683/43683 [==============================] - 1s 16us/step - loss: 273062.6530 - mean_squared_error: 273062.6530 - mean_absolute_error: 285.2492 - val_loss: 342752.8240 - val_mean_squared_error: 342752.8240 - val_mean_absolute_error: 316.1784\n",
      "Epoch 98/300\n",
      "43683/43683 [==============================] - 1s 16us/step - loss: 273367.8311 - mean_squared_error: 273367.8311 - mean_absolute_error: 283.3319 - val_loss: 307297.2344 - val_mean_squared_error: 307297.2344 - val_mean_absolute_error: 287.7501\n",
      "Epoch 99/300\n",
      "43683/43683 [==============================] - 1s 16us/step - loss: 272750.4202 - mean_squared_error: 272750.4202 - mean_absolute_error: 283.9565 - val_loss: 366412.7521 - val_mean_squared_error: 366412.7521 - val_mean_absolute_error: 340.0550\n",
      "Epoch 100/300\n",
      "43683/43683 [==============================] - 1s 16us/step - loss: 271623.6977 - mean_squared_error: 271623.6977 - mean_absolute_error: 283.0291 - val_loss: 315138.9928 - val_mean_squared_error: 315138.9928 - val_mean_absolute_error: 299.5304\n",
      "Epoch 101/300\n",
      "43683/43683 [==============================] - 1s 17us/step - loss: 266617.4875 - mean_squared_error: 266617.4875 - mean_absolute_error: 281.1378 - val_loss: 308905.2786 - val_mean_squared_error: 308905.2786 - val_mean_absolute_error: 294.8941\n",
      "Epoch 102/300\n",
      "43683/43683 [==============================] - 1s 16us/step - loss: 268689.4986 - mean_squared_error: 268689.4986 - mean_absolute_error: 281.5598 - val_loss: 320162.4888 - val_mean_squared_error: 320162.4888 - val_mean_absolute_error: 299.0554\n",
      "Epoch 103/300\n",
      "43683/43683 [==============================] - 1s 17us/step - loss: 267881.5188 - mean_squared_error: 267881.5188 - mean_absolute_error: 281.9843 - val_loss: 318866.7287 - val_mean_squared_error: 318866.7287 - val_mean_absolute_error: 300.6002\n",
      "Epoch 104/300\n",
      "43683/43683 [==============================] - 1s 17us/step - loss: 265776.2840 - mean_squared_error: 265776.2840 - mean_absolute_error: 279.2230 - val_loss: 304091.8406 - val_mean_squared_error: 304091.8406 - val_mean_absolute_error: 287.9211\n",
      "Epoch 105/300\n",
      "43683/43683 [==============================] - 1s 16us/step - loss: 265593.5116 - mean_squared_error: 265593.5116 - mean_absolute_error: 280.4186 - val_loss: 317303.7888 - val_mean_squared_error: 317303.7888 - val_mean_absolute_error: 301.9691\n",
      "Epoch 106/300\n",
      "43683/43683 [==============================] - 1s 16us/step - loss: 264858.1624 - mean_squared_error: 264858.1624 - mean_absolute_error: 279.4749 - val_loss: 313834.6887 - val_mean_squared_error: 313834.6887 - val_mean_absolute_error: 300.7122\n",
      "Epoch 107/300\n",
      "43683/43683 [==============================] - 1s 17us/step - loss: 269571.5521 - mean_squared_error: 269571.5521 - mean_absolute_error: 283.4410 - val_loss: 320867.2864 - val_mean_squared_error: 320867.2864 - val_mean_absolute_error: 299.6320\n",
      "Epoch 108/300\n",
      "43683/43683 [==============================] - 1s 17us/step - loss: 266726.1666 - mean_squared_error: 266726.1666 - mean_absolute_error: 282.2282 - val_loss: 309010.4384 - val_mean_squared_error: 309010.4384 - val_mean_absolute_error: 298.6005\n",
      "Epoch 109/300\n",
      "43683/43683 [==============================] - 1s 17us/step - loss: 264269.9152 - mean_squared_error: 264269.9152 - mean_absolute_error: 280.0850 - val_loss: 318183.7920 - val_mean_squared_error: 318183.7920 - val_mean_absolute_error: 301.5495\n",
      "Epoch 110/300\n",
      "43683/43683 [==============================] - 1s 16us/step - loss: 264208.5143 - mean_squared_error: 264208.5143 - mean_absolute_error: 279.5601 - val_loss: 308805.4451 - val_mean_squared_error: 308805.4451 - val_mean_absolute_error: 292.0120\n",
      "Epoch 111/300\n",
      "43683/43683 [==============================] - 1s 17us/step - loss: 266628.1667 - mean_squared_error: 266628.1667 - mean_absolute_error: 281.3567 - val_loss: 303097.1897 - val_mean_squared_error: 303097.1897 - val_mean_absolute_error: 287.5532\n",
      "Epoch 112/300\n",
      "43683/43683 [==============================] - 1s 17us/step - loss: 263849.4433 - mean_squared_error: 263849.4433 - mean_absolute_error: 278.7707 - val_loss: 314115.6707 - val_mean_squared_error: 314115.6707 - val_mean_absolute_error: 294.0951\n",
      "Epoch 113/300\n",
      "43683/43683 [==============================] - 1s 17us/step - loss: 262805.6402 - mean_squared_error: 262805.6402 - mean_absolute_error: 278.9038 - val_loss: 313488.9159 - val_mean_squared_error: 313488.9159 - val_mean_absolute_error: 293.0435\n",
      "Epoch 114/300\n",
      "43683/43683 [==============================] - 1s 17us/step - loss: 266859.0172 - mean_squared_error: 266859.0172 - mean_absolute_error: 280.3528 - val_loss: 336123.6371 - val_mean_squared_error: 336123.6371 - val_mean_absolute_error: 304.8069\n",
      "Epoch 115/300\n",
      "43683/43683 [==============================] - 1s 17us/step - loss: 262970.3366 - mean_squared_error: 262970.3366 - mean_absolute_error: 278.6273 - val_loss: 308303.3149 - val_mean_squared_error: 308303.3149 - val_mean_absolute_error: 290.5114\n",
      "Epoch 116/300\n",
      "43683/43683 [==============================] - 1s 17us/step - loss: 261377.8554 - mean_squared_error: 261377.8554 - mean_absolute_error: 279.2321 - val_loss: 311145.0725 - val_mean_squared_error: 311145.0725 - val_mean_absolute_error: 294.9873\n",
      "Epoch 117/300\n",
      "43683/43683 [==============================] - 1s 17us/step - loss: 265658.3898 - mean_squared_error: 265658.3898 - mean_absolute_error: 281.7240 - val_loss: 308239.7388 - val_mean_squared_error: 308239.7388 - val_mean_absolute_error: 290.1638\n",
      "Epoch 118/300\n",
      "43683/43683 [==============================] - 1s 17us/step - loss: 260031.5127 - mean_squared_error: 260031.5127 - mean_absolute_error: 277.3609 - val_loss: 311840.1370 - val_mean_squared_error: 311840.1370 - val_mean_absolute_error: 291.3233\n",
      "Epoch 119/300\n",
      "43683/43683 [==============================] - 1s 17us/step - loss: 265923.2695 - mean_squared_error: 265923.2695 - mean_absolute_error: 279.3739 - val_loss: 331424.9155 - val_mean_squared_error: 331424.9155 - val_mean_absolute_error: 307.1283\n",
      "Epoch 120/300\n",
      "43683/43683 [==============================] - 1s 17us/step - loss: 261676.3553 - mean_squared_error: 261676.3553 - mean_absolute_error: 280.0369 - val_loss: 337894.5408 - val_mean_squared_error: 337894.5408 - val_mean_absolute_error: 308.9696\n",
      "Epoch 121/300\n",
      "43683/43683 [==============================] - 1s 17us/step - loss: 257466.6192 - mean_squared_error: 257466.6192 - mean_absolute_error: 275.3298 - val_loss: 312124.8212 - val_mean_squared_error: 312124.8212 - val_mean_absolute_error: 289.5359\n",
      "Epoch 122/300\n",
      "43683/43683 [==============================] - 1s 18us/step - loss: 264702.1290 - mean_squared_error: 264702.1290 - mean_absolute_error: 280.3643 - val_loss: 306065.9597 - val_mean_squared_error: 306065.9597 - val_mean_absolute_error: 290.6130\n",
      "Epoch 123/300\n",
      "43683/43683 [==============================] - 1s 17us/step - loss: 259167.1323 - mean_squared_error: 259167.1323 - mean_absolute_error: 278.5805 - val_loss: 303734.2696 - val_mean_squared_error: 303734.2696 - val_mean_absolute_error: 287.8859\n",
      "Epoch 124/300\n",
      "43683/43683 [==============================] - 1s 18us/step - loss: 261578.4905 - mean_squared_error: 261578.4905 - mean_absolute_error: 278.7274 - val_loss: 316583.0273 - val_mean_squared_error: 316583.0273 - val_mean_absolute_error: 297.4522\n",
      "Epoch 125/300\n",
      "43683/43683 [==============================] - 1s 17us/step - loss: 258273.8345 - mean_squared_error: 258273.8345 - mean_absolute_error: 276.0165 - val_loss: 315941.2519 - val_mean_squared_error: 315941.2519 - val_mean_absolute_error: 291.3570\n",
      "Epoch 126/300\n",
      "43683/43683 [==============================] - 1s 17us/step - loss: 260691.2211 - mean_squared_error: 260691.2211 - mean_absolute_error: 279.2441 - val_loss: 310247.5886 - val_mean_squared_error: 310247.5886 - val_mean_absolute_error: 287.8041\n",
      "Epoch 127/300\n",
      "43683/43683 [==============================] - 1s 18us/step - loss: 264365.6011 - mean_squared_error: 264365.6011 - mean_absolute_error: 279.7265 - val_loss: 311544.2257 - val_mean_squared_error: 311544.2257 - val_mean_absolute_error: 292.6994\n",
      "Epoch 128/300\n",
      "43683/43683 [==============================] - 1s 18us/step - loss: 262000.8455 - mean_squared_error: 262000.8455 - mean_absolute_error: 278.2960 - val_loss: 326984.1806 - val_mean_squared_error: 326984.1806 - val_mean_absolute_error: 291.8027\n"
     ]
    },
    {
     "name": "stdout",
     "output_type": "stream",
     "text": [
      "Epoch 129/300\n",
      "43683/43683 [==============================] - 1s 16us/step - loss: 263327.2386 - mean_squared_error: 263327.2386 - mean_absolute_error: 280.1397 - val_loss: 319441.4653 - val_mean_squared_error: 319441.4653 - val_mean_absolute_error: 294.4422\n",
      "Epoch 130/300\n",
      "43683/43683 [==============================] - 1s 16us/step - loss: 256553.5550 - mean_squared_error: 256553.5550 - mean_absolute_error: 278.0765 - val_loss: 309868.0886 - val_mean_squared_error: 309868.0886 - val_mean_absolute_error: 287.2553\n",
      "Epoch 131/300\n",
      "43683/43683 [==============================] - 1s 16us/step - loss: 256912.1851 - mean_squared_error: 256912.1851 - mean_absolute_error: 277.6151 - val_loss: 310025.0237 - val_mean_squared_error: 310025.0237 - val_mean_absolute_error: 289.8341\n",
      "Epoch 132/300\n",
      "43683/43683 [==============================] - 1s 16us/step - loss: 261081.1899 - mean_squared_error: 261081.1899 - mean_absolute_error: 278.5121 - val_loss: 318471.5887 - val_mean_squared_error: 318471.5887 - val_mean_absolute_error: 300.2718\n",
      "Epoch 133/300\n",
      "43683/43683 [==============================] - 1s 16us/step - loss: 256978.0971 - mean_squared_error: 256978.0971 - mean_absolute_error: 276.1663 - val_loss: 304446.5046 - val_mean_squared_error: 304446.5046 - val_mean_absolute_error: 291.7789\n",
      "Epoch 134/300\n",
      "43683/43683 [==============================] - 1s 16us/step - loss: 257209.0968 - mean_squared_error: 257209.0968 - mean_absolute_error: 276.9918 - val_loss: 325317.9093 - val_mean_squared_error: 325317.9093 - val_mean_absolute_error: 303.0379\n",
      "Epoch 135/300\n",
      "43683/43683 [==============================] - 1s 16us/step - loss: 260063.2254 - mean_squared_error: 260063.2254 - mean_absolute_error: 277.8700 - val_loss: 306786.1991 - val_mean_squared_error: 306786.1991 - val_mean_absolute_error: 291.0265\n",
      "Epoch 136/300\n",
      "43683/43683 [==============================] - 1s 16us/step - loss: 259575.2240 - mean_squared_error: 259575.2240 - mean_absolute_error: 277.0331 - val_loss: 317731.7592 - val_mean_squared_error: 317731.7592 - val_mean_absolute_error: 304.0908\n",
      "Epoch 137/300\n",
      "43683/43683 [==============================] - 1s 17us/step - loss: 258219.6795 - mean_squared_error: 258219.6795 - mean_absolute_error: 277.5110 - val_loss: 311305.3616 - val_mean_squared_error: 311305.3616 - val_mean_absolute_error: 291.8268\n",
      "Epoch 138/300\n",
      "43683/43683 [==============================] - 1s 16us/step - loss: 257628.9967 - mean_squared_error: 257628.9967 - mean_absolute_error: 276.6804 - val_loss: 309054.2256 - val_mean_squared_error: 309054.2256 - val_mean_absolute_error: 300.5234\n",
      "Epoch 139/300\n",
      "43683/43683 [==============================] - 1s 17us/step - loss: 255863.5319 - mean_squared_error: 255863.5319 - mean_absolute_error: 275.1308 - val_loss: 335735.3886 - val_mean_squared_error: 335735.3886 - val_mean_absolute_error: 312.2755\n",
      "Epoch 140/300\n",
      "43683/43683 [==============================] - 1s 17us/step - loss: 254201.3238 - mean_squared_error: 254201.3238 - mean_absolute_error: 276.1336 - val_loss: 319505.6298 - val_mean_squared_error: 319505.6298 - val_mean_absolute_error: 303.1170\n",
      "Epoch 141/300\n",
      "43683/43683 [==============================] - 1s 17us/step - loss: 253528.6704 - mean_squared_error: 253528.6704 - mean_absolute_error: 273.8020 - val_loss: 314527.2673 - val_mean_squared_error: 314527.2673 - val_mean_absolute_error: 294.7403\n",
      "Epoch 142/300\n",
      "43683/43683 [==============================] - 1s 17us/step - loss: 253323.4917 - mean_squared_error: 253323.4917 - mean_absolute_error: 274.9452 - val_loss: 323573.9715 - val_mean_squared_error: 323573.9715 - val_mean_absolute_error: 301.1606\n",
      "Epoch 143/300\n",
      "43683/43683 [==============================] - 1s 17us/step - loss: 254789.3767 - mean_squared_error: 254789.3767 - mean_absolute_error: 277.0676 - val_loss: 325714.3363 - val_mean_squared_error: 325714.3363 - val_mean_absolute_error: 310.3897\n",
      "Epoch 144/300\n",
      "43683/43683 [==============================] - 1s 17us/step - loss: 254079.4339 - mean_squared_error: 254079.4339 - mean_absolute_error: 275.0902 - val_loss: 381395.0997 - val_mean_squared_error: 381395.0997 - val_mean_absolute_error: 325.4345\n",
      "Epoch 145/300\n",
      "43683/43683 [==============================] - 1s 17us/step - loss: 255351.0335 - mean_squared_error: 255351.0335 - mean_absolute_error: 275.6088 - val_loss: 304446.5333 - val_mean_squared_error: 304446.5333 - val_mean_absolute_error: 289.5387\n",
      "Epoch 146/300\n",
      "43683/43683 [==============================] - 1s 17us/step - loss: 252717.5009 - mean_squared_error: 252717.5009 - mean_absolute_error: 273.3518 - val_loss: 308419.7074 - val_mean_squared_error: 308419.7074 - val_mean_absolute_error: 288.3784\n",
      "Epoch 147/300\n",
      "43683/43683 [==============================] - 1s 17us/step - loss: 255032.7969 - mean_squared_error: 255032.7969 - mean_absolute_error: 274.9725 - val_loss: 311337.9264 - val_mean_squared_error: 311337.9264 - val_mean_absolute_error: 293.9285\n",
      "Epoch 148/300\n",
      "43683/43683 [==============================] - 1s 17us/step - loss: 256222.3891 - mean_squared_error: 256222.3891 - mean_absolute_error: 275.9728 - val_loss: 314155.0776 - val_mean_squared_error: 314155.0776 - val_mean_absolute_error: 298.6069\n",
      "Epoch 149/300\n",
      "43683/43683 [==============================] - 1s 17us/step - loss: 254906.1071 - mean_squared_error: 254906.1071 - mean_absolute_error: 275.4947 - val_loss: 326133.1429 - val_mean_squared_error: 326133.1429 - val_mean_absolute_error: 295.2181\n",
      "Epoch 150/300\n",
      "43683/43683 [==============================] - 1s 17us/step - loss: 251105.3706 - mean_squared_error: 251105.3706 - mean_absolute_error: 273.4319 - val_loss: 312155.9385 - val_mean_squared_error: 312155.9385 - val_mean_absolute_error: 291.2510\n",
      "Epoch 151/300\n",
      "43683/43683 [==============================] - 1s 17us/step - loss: 251838.8182 - mean_squared_error: 251838.8182 - mean_absolute_error: 272.9166 - val_loss: 325656.3730 - val_mean_squared_error: 325656.3730 - val_mean_absolute_error: 304.5899\n",
      "Epoch 152/300\n",
      "43683/43683 [==============================] - 1s 17us/step - loss: 250976.5398 - mean_squared_error: 250976.5398 - mean_absolute_error: 273.5965 - val_loss: 314029.7211 - val_mean_squared_error: 314029.7211 - val_mean_absolute_error: 296.9952\n",
      "Epoch 153/300\n",
      "43683/43683 [==============================] - 1s 17us/step - loss: 251266.8916 - mean_squared_error: 251266.8916 - mean_absolute_error: 273.3532 - val_loss: 317625.3241 - val_mean_squared_error: 317625.3241 - val_mean_absolute_error: 298.9687\n",
      "Epoch 154/300\n",
      "43683/43683 [==============================] - 1s 17us/step - loss: 257081.4197 - mean_squared_error: 257081.4197 - mean_absolute_error: 276.1846 - val_loss: 315960.9192 - val_mean_squared_error: 315960.9192 - val_mean_absolute_error: 298.7926\n",
      "Epoch 155/300\n",
      "43683/43683 [==============================] - 1s 18us/step - loss: 249558.0799 - mean_squared_error: 249558.0799 - mean_absolute_error: 271.3197 - val_loss: 309599.2307 - val_mean_squared_error: 309599.2307 - val_mean_absolute_error: 302.8931\n",
      "Epoch 156/300\n",
      "43683/43683 [==============================] - 1s 18us/step - loss: 249089.5008 - mean_squared_error: 249089.5008 - mean_absolute_error: 271.2968 - val_loss: 314174.6261 - val_mean_squared_error: 314174.6261 - val_mean_absolute_error: 290.4162\n",
      "Epoch 157/300\n",
      "43683/43683 [==============================] - 1s 18us/step - loss: 249959.5620 - mean_squared_error: 249959.5620 - mean_absolute_error: 273.5486 - val_loss: 319099.4084 - val_mean_squared_error: 319099.4084 - val_mean_absolute_error: 295.5036\n",
      "Epoch 158/300\n",
      "43683/43683 [==============================] - 1s 17us/step - loss: 249673.3910 - mean_squared_error: 249673.3910 - mean_absolute_error: 272.9592 - val_loss: 344948.8693 - val_mean_squared_error: 344948.8693 - val_mean_absolute_error: 298.8077\n",
      "Epoch 159/300\n",
      "43683/43683 [==============================] - 1s 17us/step - loss: 251340.6425 - mean_squared_error: 251340.6425 - mean_absolute_error: 273.3417 - val_loss: 308703.5542 - val_mean_squared_error: 308703.5542 - val_mean_absolute_error: 290.9692\n",
      "Epoch 160/300\n",
      "43683/43683 [==============================] - 1s 18us/step - loss: 247529.9073 - mean_squared_error: 247529.9073 - mean_absolute_error: 272.4960 - val_loss: 310094.8907 - val_mean_squared_error: 310094.8907 - val_mean_absolute_error: 288.8296\n"
     ]
    },
    {
     "name": "stdout",
     "output_type": "stream",
     "text": [
      "Epoch 161/300\n",
      "43683/43683 [==============================] - 1s 16us/step - loss: 246168.9048 - mean_squared_error: 246168.9048 - mean_absolute_error: 269.8812 - val_loss: 323015.7292 - val_mean_squared_error: 323015.7292 - val_mean_absolute_error: 296.7269\n",
      "Epoch 162/300\n",
      "43683/43683 [==============================] - 1s 16us/step - loss: 247082.8963 - mean_squared_error: 247082.8963 - mean_absolute_error: 271.8707 - val_loss: 315671.9925 - val_mean_squared_error: 315671.9925 - val_mean_absolute_error: 297.9441\n",
      "Epoch 163/300\n",
      "43683/43683 [==============================] - 1s 17us/step - loss: 245077.3367 - mean_squared_error: 245077.3367 - mean_absolute_error: 269.7068 - val_loss: 309374.8723 - val_mean_squared_error: 309374.8723 - val_mean_absolute_error: 291.3982\n",
      "Epoch 164/300\n",
      "43683/43683 [==============================] - 1s 17us/step - loss: 248373.1101 - mean_squared_error: 248373.1101 - mean_absolute_error: 270.1588 - val_loss: 361076.7278 - val_mean_squared_error: 361076.7278 - val_mean_absolute_error: 332.7120\n",
      "Epoch 165/300\n",
      "43683/43683 [==============================] - 1s 16us/step - loss: 248479.7198 - mean_squared_error: 248479.7198 - mean_absolute_error: 273.2077 - val_loss: 327680.1095 - val_mean_squared_error: 327680.1095 - val_mean_absolute_error: 303.9204\n",
      "Epoch 166/300\n",
      "43683/43683 [==============================] - 1s 17us/step - loss: 245264.9498 - mean_squared_error: 245264.9498 - mean_absolute_error: 270.8119 - val_loss: 331810.6011 - val_mean_squared_error: 331810.6011 - val_mean_absolute_error: 294.2198\n",
      "Epoch 167/300\n",
      "43683/43683 [==============================] - 1s 16us/step - loss: 243340.5632 - mean_squared_error: 243340.5632 - mean_absolute_error: 268.5124 - val_loss: 305143.5812 - val_mean_squared_error: 305143.5812 - val_mean_absolute_error: 287.5782\n",
      "Epoch 168/300\n",
      "43683/43683 [==============================] - 1s 16us/step - loss: 247409.9352 - mean_squared_error: 247409.9352 - mean_absolute_error: 271.6750 - val_loss: 326343.0095 - val_mean_squared_error: 326343.0095 - val_mean_absolute_error: 302.8667\n",
      "Epoch 169/300\n",
      "43683/43683 [==============================] - 1s 17us/step - loss: 246791.1881 - mean_squared_error: 246791.1881 - mean_absolute_error: 271.6305 - val_loss: 304692.1674 - val_mean_squared_error: 304692.1674 - val_mean_absolute_error: 290.2263\n",
      "Epoch 170/300\n",
      "43683/43683 [==============================] - 1s 17us/step - loss: 249035.2979 - mean_squared_error: 249035.2979 - mean_absolute_error: 272.6961 - val_loss: 354905.3966 - val_mean_squared_error: 354905.3966 - val_mean_absolute_error: 312.7297\n",
      "Epoch 171/300\n",
      "43683/43683 [==============================] - 1s 17us/step - loss: 248274.9354 - mean_squared_error: 248274.9354 - mean_absolute_error: 273.3868 - val_loss: 313887.2482 - val_mean_squared_error: 313887.2482 - val_mean_absolute_error: 287.5467\n",
      "Epoch 172/300\n",
      "43683/43683 [==============================] - 1s 16us/step - loss: 246310.1054 - mean_squared_error: 246310.1054 - mean_absolute_error: 270.7428 - val_loss: 329596.3751 - val_mean_squared_error: 329596.3751 - val_mean_absolute_error: 298.8452\n",
      "Epoch 173/300\n",
      "43683/43683 [==============================] - 1s 17us/step - loss: 243211.9325 - mean_squared_error: 243211.9325 - mean_absolute_error: 268.9250 - val_loss: 321604.9107 - val_mean_squared_error: 321604.9107 - val_mean_absolute_error: 291.9597\n",
      "Epoch 174/300\n",
      "43683/43683 [==============================] - 1s 17us/step - loss: 248412.0015 - mean_squared_error: 248412.0015 - mean_absolute_error: 271.4547 - val_loss: 313723.4015 - val_mean_squared_error: 313723.4015 - val_mean_absolute_error: 300.4758\n",
      "Epoch 175/300\n",
      "43683/43683 [==============================] - 1s 17us/step - loss: 244275.1651 - mean_squared_error: 244275.1651 - mean_absolute_error: 268.8991 - val_loss: 323669.2156 - val_mean_squared_error: 323669.2156 - val_mean_absolute_error: 309.3269\n",
      "Epoch 176/300\n",
      "43683/43683 [==============================] - 1s 17us/step - loss: 244292.6130 - mean_squared_error: 244292.6130 - mean_absolute_error: 269.5294 - val_loss: 309893.6555 - val_mean_squared_error: 309893.6555 - val_mean_absolute_error: 289.6474\n",
      "Epoch 177/300\n",
      "43683/43683 [==============================] - 1s 17us/step - loss: 245883.8317 - mean_squared_error: 245883.8317 - mean_absolute_error: 271.6916 - val_loss: 310588.9949 - val_mean_squared_error: 310588.9949 - val_mean_absolute_error: 289.6781\n",
      "Epoch 178/300\n",
      "43683/43683 [==============================] - 1s 17us/step - loss: 246565.2064 - mean_squared_error: 246565.2064 - mean_absolute_error: 272.0144 - val_loss: 345597.9613 - val_mean_squared_error: 345597.9613 - val_mean_absolute_error: 307.6190\n",
      "Epoch 179/300\n",
      "43683/43683 [==============================] - 1s 17us/step - loss: 242521.7097 - mean_squared_error: 242521.7097 - mean_absolute_error: 268.0330 - val_loss: 324775.3627 - val_mean_squared_error: 324775.3627 - val_mean_absolute_error: 301.0834\n",
      "Epoch 180/300\n",
      "43683/43683 [==============================] - 1s 18us/step - loss: 243231.2961 - mean_squared_error: 243231.2961 - mean_absolute_error: 269.1521 - val_loss: 315198.5280 - val_mean_squared_error: 315198.5280 - val_mean_absolute_error: 291.5406\n",
      "Epoch 181/300\n",
      "43683/43683 [==============================] - 1s 17us/step - loss: 245691.7710 - mean_squared_error: 245691.7710 - mean_absolute_error: 270.6228 - val_loss: 325745.3585 - val_mean_squared_error: 325745.3585 - val_mean_absolute_error: 304.2645\n",
      "Epoch 182/300\n",
      "43683/43683 [==============================] - 1s 17us/step - loss: 244516.9901 - mean_squared_error: 244516.9901 - mean_absolute_error: 270.4175 - val_loss: 340874.5558 - val_mean_squared_error: 340874.5558 - val_mean_absolute_error: 297.6504\n",
      "Epoch 183/300\n",
      "43683/43683 [==============================] - 1s 17us/step - loss: 241320.0866 - mean_squared_error: 241320.0866 - mean_absolute_error: 268.8120 - val_loss: 310133.4782 - val_mean_squared_error: 310133.4782 - val_mean_absolute_error: 288.7576\n",
      "Epoch 184/300\n",
      "43683/43683 [==============================] - 1s 18us/step - loss: 241279.8359 - mean_squared_error: 241279.8359 - mean_absolute_error: 267.3100 - val_loss: 306338.2880 - val_mean_squared_error: 306338.2880 - val_mean_absolute_error: 289.8209\n",
      "Epoch 185/300\n",
      "43683/43683 [==============================] - 1s 18us/step - loss: 245597.7872 - mean_squared_error: 245597.7872 - mean_absolute_error: 271.4295 - val_loss: 336842.1196 - val_mean_squared_error: 336842.1196 - val_mean_absolute_error: 313.0983\n",
      "Epoch 186/300\n",
      "43683/43683 [==============================] - 1s 17us/step - loss: 241414.6233 - mean_squared_error: 241414.6233 - mean_absolute_error: 268.6749 - val_loss: 313348.8341 - val_mean_squared_error: 313348.8341 - val_mean_absolute_error: 292.2802\n",
      "Epoch 187/300\n",
      "43683/43683 [==============================] - 1s 17us/step - loss: 242230.5918 - mean_squared_error: 242230.5918 - mean_absolute_error: 269.7368 - val_loss: 389682.0119 - val_mean_squared_error: 389682.0119 - val_mean_absolute_error: 357.1772\n",
      "Epoch 188/300\n",
      "43683/43683 [==============================] - 1s 18us/step - loss: 247431.4212 - mean_squared_error: 247431.4212 - mean_absolute_error: 272.0168 - val_loss: 309562.0084 - val_mean_squared_error: 309562.0084 - val_mean_absolute_error: 290.3217\n",
      "Epoch 189/300\n",
      "43683/43683 [==============================] - 1s 18us/step - loss: 241546.0161 - mean_squared_error: 241546.0161 - mean_absolute_error: 269.0994 - val_loss: 316336.6092 - val_mean_squared_error: 316336.6092 - val_mean_absolute_error: 290.1208\n",
      "Epoch 190/300\n",
      "43683/43683 [==============================] - 1s 18us/step - loss: 240284.5770 - mean_squared_error: 240284.5770 - mean_absolute_error: 267.7183 - val_loss: 334354.3139 - val_mean_squared_error: 334354.3139 - val_mean_absolute_error: 289.7021\n",
      "Epoch 191/300\n",
      "43683/43683 [==============================] - 1s 17us/step - loss: 241617.1842 - mean_squared_error: 241617.1842 - mean_absolute_error: 268.3904 - val_loss: 317547.9225 - val_mean_squared_error: 317547.9225 - val_mean_absolute_error: 291.8315\n",
      "Epoch 192/300\n",
      "43683/43683 [==============================] - 1s 18us/step - loss: 242508.1628 - mean_squared_error: 242508.1628 - mean_absolute_error: 268.7011 - val_loss: 328078.5854 - val_mean_squared_error: 328078.5854 - val_mean_absolute_error: 299.8103\n"
     ]
    },
    {
     "name": "stdout",
     "output_type": "stream",
     "text": [
      "Epoch 193/300\n",
      "43683/43683 [==============================] - 1s 16us/step - loss: 243335.0680 - mean_squared_error: 243335.0680 - mean_absolute_error: 268.5113 - val_loss: 333147.5242 - val_mean_squared_error: 333147.5242 - val_mean_absolute_error: 301.4277\n",
      "Epoch 194/300\n",
      "43683/43683 [==============================] - 1s 17us/step - loss: 240601.7877 - mean_squared_error: 240601.7877 - mean_absolute_error: 268.4247 - val_loss: 317113.0711 - val_mean_squared_error: 317113.0711 - val_mean_absolute_error: 297.2855\n",
      "Epoch 195/300\n",
      "43683/43683 [==============================] - 1s 16us/step - loss: 239060.2152 - mean_squared_error: 239060.2152 - mean_absolute_error: 266.9834 - val_loss: 313689.9962 - val_mean_squared_error: 313689.9962 - val_mean_absolute_error: 289.6975\n",
      "Epoch 196/300\n",
      "43683/43683 [==============================] - 1s 17us/step - loss: 240147.9814 - mean_squared_error: 240147.9814 - mean_absolute_error: 268.5517 - val_loss: 309294.0860 - val_mean_squared_error: 309294.0860 - val_mean_absolute_error: 291.9573\n",
      "Epoch 197/300\n",
      "43683/43683 [==============================] - 1s 16us/step - loss: 241149.1782 - mean_squared_error: 241149.1782 - mean_absolute_error: 268.7314 - val_loss: 317559.4080 - val_mean_squared_error: 317559.4080 - val_mean_absolute_error: 292.9945\n",
      "Epoch 198/300\n",
      "43683/43683 [==============================] - 1s 16us/step - loss: 239362.4918 - mean_squared_error: 239362.4918 - mean_absolute_error: 266.4191 - val_loss: 385643.0276 - val_mean_squared_error: 385643.0276 - val_mean_absolute_error: 340.9701\n",
      "Epoch 199/300\n",
      "43683/43683 [==============================] - 1s 18us/step - loss: 236448.3055 - mean_squared_error: 236448.3055 - mean_absolute_error: 266.5846 - val_loss: 325961.5385 - val_mean_squared_error: 325961.5385 - val_mean_absolute_error: 301.6068\n",
      "Epoch 200/300\n",
      "43683/43683 [==============================] - 1s 17us/step - loss: 241229.3686 - mean_squared_error: 241229.3686 - mean_absolute_error: 267.5087 - val_loss: 310842.5173 - val_mean_squared_error: 310842.5173 - val_mean_absolute_error: 288.5687\n",
      "Epoch 201/300\n",
      "43683/43683 [==============================] - 1s 18us/step - loss: 239439.0988 - mean_squared_error: 239439.0988 - mean_absolute_error: 268.7521 - val_loss: 351654.2708 - val_mean_squared_error: 351654.2708 - val_mean_absolute_error: 319.3438\n",
      "Epoch 202/300\n",
      "43683/43683 [==============================] - 1s 17us/step - loss: 237003.2662 - mean_squared_error: 237003.2662 - mean_absolute_error: 267.2289 - val_loss: 323112.8184 - val_mean_squared_error: 323112.8184 - val_mean_absolute_error: 292.5581\n",
      "Epoch 203/300\n",
      "43683/43683 [==============================] - 1s 17us/step - loss: 239982.2858 - mean_squared_error: 239982.2858 - mean_absolute_error: 268.3827 - val_loss: 322608.5357 - val_mean_squared_error: 322608.5357 - val_mean_absolute_error: 290.1302\n",
      "Epoch 204/300\n",
      "43683/43683 [==============================] - 1s 17us/step - loss: 236050.7783 - mean_squared_error: 236050.7783 - mean_absolute_error: 265.2868 - val_loss: 315346.3354 - val_mean_squared_error: 315346.3354 - val_mean_absolute_error: 289.2623\n",
      "Epoch 205/300\n",
      "43683/43683 [==============================] - 1s 17us/step - loss: 238354.7195 - mean_squared_error: 238354.7195 - mean_absolute_error: 267.3864 - val_loss: 323735.2440 - val_mean_squared_error: 323735.2440 - val_mean_absolute_error: 294.2933\n",
      "Epoch 206/300\n",
      "43683/43683 [==============================] - 1s 17us/step - loss: 238463.0425 - mean_squared_error: 238463.0425 - mean_absolute_error: 266.1044 - val_loss: 308597.7438 - val_mean_squared_error: 308597.7438 - val_mean_absolute_error: 291.7958\n",
      "Epoch 207/300\n",
      "43683/43683 [==============================] - 1s 18us/step - loss: 238422.6119 - mean_squared_error: 238422.6119 - mean_absolute_error: 266.6320 - val_loss: 318327.2126 - val_mean_squared_error: 318327.2126 - val_mean_absolute_error: 296.9557\n",
      "Epoch 208/300\n",
      "43683/43683 [==============================] - 1s 18us/step - loss: 236672.5029 - mean_squared_error: 236672.5029 - mean_absolute_error: 265.4047 - val_loss: 311929.0770 - val_mean_squared_error: 311929.0770 - val_mean_absolute_error: 293.9734\n",
      "Epoch 209/300\n",
      "43683/43683 [==============================] - 1s 18us/step - loss: 235314.9117 - mean_squared_error: 235314.9117 - mean_absolute_error: 265.3776 - val_loss: 332898.1854 - val_mean_squared_error: 332898.1854 - val_mean_absolute_error: 310.4858\n",
      "Epoch 210/300\n",
      "43683/43683 [==============================] - 1s 17us/step - loss: 238616.9430 - mean_squared_error: 238616.9430 - mean_absolute_error: 267.6261 - val_loss: 308788.0526 - val_mean_squared_error: 308788.0526 - val_mean_absolute_error: 287.8822\n",
      "Epoch 211/300\n",
      "43683/43683 [==============================] - 1s 17us/step - loss: 237294.6782 - mean_squared_error: 237294.6782 - mean_absolute_error: 266.2119 - val_loss: 328009.2355 - val_mean_squared_error: 328009.2355 - val_mean_absolute_error: 308.4338\n",
      "Epoch 212/300\n",
      "43683/43683 [==============================] - 1s 17us/step - loss: 238556.3921 - mean_squared_error: 238556.3921 - mean_absolute_error: 267.8059 - val_loss: 318455.3621 - val_mean_squared_error: 318455.3621 - val_mean_absolute_error: 299.5856\n",
      "Epoch 213/300\n",
      "43683/43683 [==============================] - 1s 17us/step - loss: 237826.6080 - mean_squared_error: 237826.6080 - mean_absolute_error: 265.6316 - val_loss: 318075.2192 - val_mean_squared_error: 318075.2192 - val_mean_absolute_error: 301.0385\n",
      "Epoch 214/300\n",
      "43683/43683 [==============================] - 1s 17us/step - loss: 237222.8826 - mean_squared_error: 237222.8826 - mean_absolute_error: 266.0247 - val_loss: 321764.4550 - val_mean_squared_error: 321764.4550 - val_mean_absolute_error: 291.1407\n",
      "Epoch 215/300\n",
      "43683/43683 [==============================] - 1s 17us/step - loss: 234066.8249 - mean_squared_error: 234066.8249 - mean_absolute_error: 263.9108 - val_loss: 331015.1341 - val_mean_squared_error: 331015.1341 - val_mean_absolute_error: 302.6003\n",
      "Epoch 216/300\n",
      "43683/43683 [==============================] - 1s 17us/step - loss: 233465.2915 - mean_squared_error: 233465.2915 - mean_absolute_error: 263.4864 - val_loss: 379318.4012 - val_mean_squared_error: 379318.4012 - val_mean_absolute_error: 338.7167\n",
      "Epoch 217/300\n",
      "43683/43683 [==============================] - 1s 17us/step - loss: 236842.3258 - mean_squared_error: 236842.3258 - mean_absolute_error: 266.3666 - val_loss: 324686.2531 - val_mean_squared_error: 324686.2531 - val_mean_absolute_error: 304.0136\n",
      "Epoch 218/300\n",
      "43683/43683 [==============================] - 1s 17us/step - loss: 232963.1423 - mean_squared_error: 232963.1423 - mean_absolute_error: 264.3778 - val_loss: 335231.5761 - val_mean_squared_error: 335231.5761 - val_mean_absolute_error: 311.2252\n",
      "Epoch 219/300\n",
      "43683/43683 [==============================] - 1s 17us/step - loss: 235793.6937 - mean_squared_error: 235793.6937 - mean_absolute_error: 265.7814 - val_loss: 332201.3890 - val_mean_squared_error: 332201.3890 - val_mean_absolute_error: 307.7351\n",
      "Epoch 220/300\n",
      "43683/43683 [==============================] - 1s 17us/step - loss: 239302.1193 - mean_squared_error: 239302.1193 - mean_absolute_error: 267.8287 - val_loss: 311522.1764 - val_mean_squared_error: 311522.1764 - val_mean_absolute_error: 290.6298\n",
      "Epoch 221/300\n",
      "43683/43683 [==============================] - 1s 17us/step - loss: 234406.0538 - mean_squared_error: 234406.0538 - mean_absolute_error: 264.8735 - val_loss: 317197.4420 - val_mean_squared_error: 317197.4420 - val_mean_absolute_error: 293.3620\n",
      "Epoch 222/300\n",
      "43683/43683 [==============================] - 1s 17us/step - loss: 231934.0218 - mean_squared_error: 231934.0218 - mean_absolute_error: 262.1453 - val_loss: 339721.2791 - val_mean_squared_error: 339721.2791 - val_mean_absolute_error: 312.3437\n",
      "Epoch 223/300\n",
      "43683/43683 [==============================] - 1s 18us/step - loss: 230226.3888 - mean_squared_error: 230226.3888 - mean_absolute_error: 263.6756 - val_loss: 320102.4437 - val_mean_squared_error: 320102.4437 - val_mean_absolute_error: 295.1481\n",
      "Epoch 224/300\n",
      "43683/43683 [==============================] - 1s 18us/step - loss: 235502.9888 - mean_squared_error: 235502.9888 - mean_absolute_error: 265.7873 - val_loss: 315980.7094 - val_mean_squared_error: 315980.7094 - val_mean_absolute_error: 299.4017\n"
     ]
    },
    {
     "name": "stdout",
     "output_type": "stream",
     "text": [
      "Epoch 225/300\n",
      "43683/43683 [==============================] - 1s 16us/step - loss: 234525.7635 - mean_squared_error: 234525.7635 - mean_absolute_error: 265.0576 - val_loss: 320359.7996 - val_mean_squared_error: 320359.7996 - val_mean_absolute_error: 293.7827\n",
      "Epoch 226/300\n",
      "43683/43683 [==============================] - 1s 17us/step - loss: 236766.3550 - mean_squared_error: 236766.3550 - mean_absolute_error: 265.6621 - val_loss: 326904.3814 - val_mean_squared_error: 326904.3814 - val_mean_absolute_error: 305.1937\n",
      "Epoch 227/300\n",
      "43683/43683 [==============================] - 1s 16us/step - loss: 233769.3288 - mean_squared_error: 233769.3288 - mean_absolute_error: 264.4086 - val_loss: 342646.0079 - val_mean_squared_error: 342646.0079 - val_mean_absolute_error: 301.8377\n",
      "Epoch 228/300\n",
      "43683/43683 [==============================] - 1s 16us/step - loss: 230341.9916 - mean_squared_error: 230341.9916 - mean_absolute_error: 262.5715 - val_loss: 317044.1188 - val_mean_squared_error: 317044.1188 - val_mean_absolute_error: 296.1725\n",
      "Epoch 229/300\n",
      "43683/43683 [==============================] - 1s 16us/step - loss: 231839.2840 - mean_squared_error: 231839.2840 - mean_absolute_error: 263.5517 - val_loss: 323115.7999 - val_mean_squared_error: 323115.7999 - val_mean_absolute_error: 303.6363\n",
      "Epoch 230/300\n",
      "43683/43683 [==============================] - 1s 17us/step - loss: 232232.2446 - mean_squared_error: 232232.2446 - mean_absolute_error: 264.0023 - val_loss: 318848.6873 - val_mean_squared_error: 318848.6873 - val_mean_absolute_error: 293.0403\n",
      "Epoch 231/300\n",
      "43683/43683 [==============================] - 1s 16us/step - loss: 234641.0745 - mean_squared_error: 234641.0745 - mean_absolute_error: 265.8291 - val_loss: 329537.1217 - val_mean_squared_error: 329537.1217 - val_mean_absolute_error: 305.4683\n",
      "Epoch 232/300\n",
      "43683/43683 [==============================] - 1s 17us/step - loss: 231946.2295 - mean_squared_error: 231946.2295 - mean_absolute_error: 262.9571 - val_loss: 334090.3653 - val_mean_squared_error: 334090.3653 - val_mean_absolute_error: 314.2289\n",
      "Epoch 233/300\n",
      "43683/43683 [==============================] - 1s 16us/step - loss: 229757.8748 - mean_squared_error: 229757.8748 - mean_absolute_error: 263.0393 - val_loss: 354862.1859 - val_mean_squared_error: 354862.1859 - val_mean_absolute_error: 314.3404\n",
      "Epoch 234/300\n",
      "43683/43683 [==============================] - 1s 17us/step - loss: 229135.0780 - mean_squared_error: 229135.0780 - mean_absolute_error: 262.3099 - val_loss: 318659.7954 - val_mean_squared_error: 318659.7954 - val_mean_absolute_error: 292.6241\n",
      "Epoch 235/300\n",
      "43683/43683 [==============================] - 1s 17us/step - loss: 232520.4845 - mean_squared_error: 232520.4845 - mean_absolute_error: 263.2330 - val_loss: 309881.7028 - val_mean_squared_error: 309881.7028 - val_mean_absolute_error: 291.0119\n",
      "Epoch 236/300\n",
      "43683/43683 [==============================] - 1s 17us/step - loss: 231785.3864 - mean_squared_error: 231785.3864 - mean_absolute_error: 263.9444 - val_loss: 313353.0129 - val_mean_squared_error: 313353.0129 - val_mean_absolute_error: 295.3222\n",
      "Epoch 237/300\n",
      "43683/43683 [==============================] - 1s 16us/step - loss: 231468.5728 - mean_squared_error: 231468.5728 - mean_absolute_error: 263.1947 - val_loss: 313606.5993 - val_mean_squared_error: 313606.5993 - val_mean_absolute_error: 295.1420\n",
      "Epoch 238/300\n",
      "43683/43683 [==============================] - 1s 17us/step - loss: 233603.1223 - mean_squared_error: 233603.1223 - mean_absolute_error: 264.8914 - val_loss: 324574.2754 - val_mean_squared_error: 324574.2754 - val_mean_absolute_error: 295.3347\n",
      "Epoch 239/300\n",
      "43683/43683 [==============================] - 1s 17us/step - loss: 231610.0042 - mean_squared_error: 231610.0042 - mean_absolute_error: 263.2775 - val_loss: 307638.5074 - val_mean_squared_error: 307638.5074 - val_mean_absolute_error: 291.7635\n",
      "Epoch 240/300\n",
      "43683/43683 [==============================] - 1s 17us/step - loss: 231364.4205 - mean_squared_error: 231364.4205 - mean_absolute_error: 263.4271 - val_loss: 317570.5130 - val_mean_squared_error: 317570.5130 - val_mean_absolute_error: 294.1895\n",
      "Epoch 241/300\n",
      "43683/43683 [==============================] - 1s 17us/step - loss: 228302.4441 - mean_squared_error: 228302.4441 - mean_absolute_error: 261.1018 - val_loss: 322192.0458 - val_mean_squared_error: 322192.0458 - val_mean_absolute_error: 301.2642\n",
      "Epoch 242/300\n",
      "43683/43683 [==============================] - 1s 17us/step - loss: 233617.2951 - mean_squared_error: 233617.2951 - mean_absolute_error: 264.8588 - val_loss: 329534.6324 - val_mean_squared_error: 329534.6324 - val_mean_absolute_error: 308.0868\n",
      "Epoch 243/300\n",
      "43683/43683 [==============================] - 1s 17us/step - loss: 234018.8655 - mean_squared_error: 234018.8655 - mean_absolute_error: 266.1464 - val_loss: 321491.3925 - val_mean_squared_error: 321491.3925 - val_mean_absolute_error: 300.4625\n",
      "Epoch 244/300\n",
      "43683/43683 [==============================] - 1s 17us/step - loss: 226984.3295 - mean_squared_error: 226984.3295 - mean_absolute_error: 259.8581 - val_loss: 311290.0004 - val_mean_squared_error: 311290.0004 - val_mean_absolute_error: 294.5305\n",
      "Epoch 245/300\n",
      "43683/43683 [==============================] - 1s 17us/step - loss: 227875.5430 - mean_squared_error: 227875.5430 - mean_absolute_error: 260.3516 - val_loss: 353443.5991 - val_mean_squared_error: 353443.5991 - val_mean_absolute_error: 327.0681\n",
      "Epoch 246/300\n",
      "43683/43683 [==============================] - 1s 17us/step - loss: 228370.0060 - mean_squared_error: 228370.0060 - mean_absolute_error: 261.8378 - val_loss: 310863.4447 - val_mean_squared_error: 310863.4447 - val_mean_absolute_error: 294.2115\n",
      "Epoch 247/300\n",
      "43683/43683 [==============================] - 1s 17us/step - loss: 225340.4303 - mean_squared_error: 225340.4303 - mean_absolute_error: 259.6197 - val_loss: 319879.3278 - val_mean_squared_error: 319879.3278 - val_mean_absolute_error: 296.0650\n",
      "Epoch 248/300\n",
      "43683/43683 [==============================] - 1s 17us/step - loss: 228120.5892 - mean_squared_error: 228120.5892 - mean_absolute_error: 261.5173 - val_loss: 327120.0612 - val_mean_squared_error: 327120.0612 - val_mean_absolute_error: 297.2136\n",
      "Epoch 249/300\n",
      "43683/43683 [==============================] - 1s 17us/step - loss: 230790.2259 - mean_squared_error: 230790.2259 - mean_absolute_error: 263.4450 - val_loss: 314148.4112 - val_mean_squared_error: 314148.4112 - val_mean_absolute_error: 297.4086\n",
      "Epoch 250/300\n",
      "43683/43683 [==============================] - 1s 17us/step - loss: 227197.7661 - mean_squared_error: 227197.7661 - mean_absolute_error: 261.3236 - val_loss: 317898.4821 - val_mean_squared_error: 317898.4821 - val_mean_absolute_error: 299.0013\n",
      "Epoch 251/300\n",
      "43683/43683 [==============================] - 1s 17us/step - loss: 229559.1053 - mean_squared_error: 229559.1053 - mean_absolute_error: 263.6117 - val_loss: 317691.5021 - val_mean_squared_error: 317691.5021 - val_mean_absolute_error: 293.8712\n",
      "Epoch 252/300\n",
      "43683/43683 [==============================] - 1s 18us/step - loss: 229598.0786 - mean_squared_error: 229598.0786 - mean_absolute_error: 262.3037 - val_loss: 319852.5700 - val_mean_squared_error: 319852.5700 - val_mean_absolute_error: 300.7841\n",
      "Epoch 253/300\n",
      "43683/43683 [==============================] - 1s 17us/step - loss: 227580.1285 - mean_squared_error: 227580.1285 - mean_absolute_error: 261.6351 - val_loss: 338198.6907 - val_mean_squared_error: 338198.6907 - val_mean_absolute_error: 300.7043\n",
      "Epoch 254/300\n",
      "43683/43683 [==============================] - 1s 17us/step - loss: 223699.7139 - mean_squared_error: 223699.7139 - mean_absolute_error: 257.9386 - val_loss: 336717.1577 - val_mean_squared_error: 336717.1577 - val_mean_absolute_error: 297.8000\n",
      "Epoch 255/300\n",
      "43683/43683 [==============================] - 1s 18us/step - loss: 227011.2349 - mean_squared_error: 227011.2349 - mean_absolute_error: 260.6975 - val_loss: 317621.9325 - val_mean_squared_error: 317621.9325 - val_mean_absolute_error: 296.7580\n",
      "Epoch 256/300\n",
      "43683/43683 [==============================] - 1s 18us/step - loss: 229301.0199 - mean_squared_error: 229301.0199 - mean_absolute_error: 261.8654 - val_loss: 318622.5346 - val_mean_squared_error: 318622.5346 - val_mean_absolute_error: 295.4227\n"
     ]
    },
    {
     "name": "stdout",
     "output_type": "stream",
     "text": [
      "Epoch 257/300\n",
      "43683/43683 [==============================] - 1s 16us/step - loss: 225649.5069 - mean_squared_error: 225649.5069 - mean_absolute_error: 259.9040 - val_loss: 327440.2801 - val_mean_squared_error: 327440.2801 - val_mean_absolute_error: 295.9837\n",
      "Epoch 258/300\n",
      "43683/43683 [==============================] - 1s 17us/step - loss: 227343.5986 - mean_squared_error: 227343.5986 - mean_absolute_error: 261.9636 - val_loss: 321764.4450 - val_mean_squared_error: 321764.4450 - val_mean_absolute_error: 304.2361\n",
      "Epoch 259/300\n",
      "43683/43683 [==============================] - 1s 16us/step - loss: 227773.0949 - mean_squared_error: 227773.0949 - mean_absolute_error: 261.5052 - val_loss: 316590.4912 - val_mean_squared_error: 316590.4912 - val_mean_absolute_error: 296.1853\n",
      "Epoch 260/300\n",
      "43683/43683 [==============================] - 1s 20us/step - loss: 222696.4063 - mean_squared_error: 222696.4063 - mean_absolute_error: 258.7182 - val_loss: 335507.4369 - val_mean_squared_error: 335507.4369 - val_mean_absolute_error: 308.8370\n",
      "Epoch 261/300\n",
      "43683/43683 [==============================] - 1s 19us/step - loss: 225751.5032 - mean_squared_error: 225751.5032 - mean_absolute_error: 259.6859 - val_loss: 313925.9065 - val_mean_squared_error: 313925.9065 - val_mean_absolute_error: 293.2434\n",
      "Epoch 262/300\n",
      "43683/43683 [==============================] - 1s 16us/step - loss: 225593.7057 - mean_squared_error: 225593.7057 - mean_absolute_error: 261.1895 - val_loss: 323284.7949 - val_mean_squared_error: 323284.7949 - val_mean_absolute_error: 301.1120\n",
      "Epoch 263/300\n",
      "43683/43683 [==============================] - 1s 17us/step - loss: 227580.5520 - mean_squared_error: 227580.5520 - mean_absolute_error: 260.9319 - val_loss: 312493.1459 - val_mean_squared_error: 312493.1459 - val_mean_absolute_error: 293.9405\n",
      "Epoch 264/300\n",
      "43683/43683 [==============================] - 1s 16us/step - loss: 225889.1783 - mean_squared_error: 225889.1783 - mean_absolute_error: 259.6136 - val_loss: 325286.2351 - val_mean_squared_error: 325286.2351 - val_mean_absolute_error: 310.6688\n",
      "Epoch 265/300\n",
      "43683/43683 [==============================] - 1s 17us/step - loss: 222464.6886 - mean_squared_error: 222464.6886 - mean_absolute_error: 258.1282 - val_loss: 320933.1536 - val_mean_squared_error: 320933.1536 - val_mean_absolute_error: 301.4431\n",
      "Epoch 266/300\n",
      "43683/43683 [==============================] - 1s 17us/step - loss: 226001.1676 - mean_squared_error: 226001.1676 - mean_absolute_error: 261.0644 - val_loss: 318570.8823 - val_mean_squared_error: 318570.8823 - val_mean_absolute_error: 303.3149\n",
      "Epoch 267/300\n",
      "43683/43683 [==============================] - 1s 17us/step - loss: 224022.2853 - mean_squared_error: 224022.2853 - mean_absolute_error: 258.8557 - val_loss: 342044.7152 - val_mean_squared_error: 342044.7152 - val_mean_absolute_error: 309.8111\n",
      "Epoch 268/300\n",
      "43683/43683 [==============================] - 1s 17us/step - loss: 223443.4432 - mean_squared_error: 223443.4432 - mean_absolute_error: 259.8759 - val_loss: 311000.7684 - val_mean_squared_error: 311000.7684 - val_mean_absolute_error: 298.3280\n",
      "Epoch 269/300\n",
      "43683/43683 [==============================] - 1s 17us/step - loss: 223422.4843 - mean_squared_error: 223422.4843 - mean_absolute_error: 259.7612 - val_loss: 326888.6874 - val_mean_squared_error: 326888.6874 - val_mean_absolute_error: 303.4206\n",
      "Epoch 270/300\n",
      "43683/43683 [==============================] - 1s 17us/step - loss: 222490.9363 - mean_squared_error: 222490.9363 - mean_absolute_error: 258.8696 - val_loss: 341783.7849 - val_mean_squared_error: 341783.7849 - val_mean_absolute_error: 314.1451\n",
      "Epoch 271/300\n",
      "43683/43683 [==============================] - 1s 17us/step - loss: 226130.4060 - mean_squared_error: 226130.4060 - mean_absolute_error: 259.9496 - val_loss: 315897.7139 - val_mean_squared_error: 315897.7139 - val_mean_absolute_error: 297.8565\n",
      "Epoch 272/300\n",
      "43683/43683 [==============================] - 1s 17us/step - loss: 224313.4977 - mean_squared_error: 224313.4977 - mean_absolute_error: 258.9032 - val_loss: 321985.7906 - val_mean_squared_error: 321985.7906 - val_mean_absolute_error: 294.7106\n",
      "Epoch 273/300\n",
      "43683/43683 [==============================] - 1s 17us/step - loss: 224650.8897 - mean_squared_error: 224650.8897 - mean_absolute_error: 258.9700 - val_loss: 333178.9603 - val_mean_squared_error: 333178.9603 - val_mean_absolute_error: 299.4204\n",
      "Epoch 274/300\n",
      "43683/43683 [==============================] - 1s 17us/step - loss: 223529.0397 - mean_squared_error: 223529.0397 - mean_absolute_error: 259.4480 - val_loss: 333671.0380 - val_mean_squared_error: 333671.0380 - val_mean_absolute_error: 297.2692\n",
      "Epoch 275/300\n",
      "43683/43683 [==============================] - 1s 17us/step - loss: 221635.3767 - mean_squared_error: 221635.3767 - mean_absolute_error: 257.6753 - val_loss: 317553.5124 - val_mean_squared_error: 317553.5124 - val_mean_absolute_error: 296.9440\n",
      "Epoch 276/300\n",
      "43683/43683 [==============================] - 1s 17us/step - loss: 223780.6666 - mean_squared_error: 223780.6666 - mean_absolute_error: 258.4370 - val_loss: 388826.9031 - val_mean_squared_error: 388826.9031 - val_mean_absolute_error: 344.8544\n",
      "Epoch 277/300\n",
      "43683/43683 [==============================] - 1s 17us/step - loss: 221082.4255 - mean_squared_error: 221082.4255 - mean_absolute_error: 257.8362 - val_loss: 335492.5325 - val_mean_squared_error: 335492.5325 - val_mean_absolute_error: 302.0777\n",
      "Epoch 278/300\n",
      "43683/43683 [==============================] - 1s 17us/step - loss: 219433.4526 - mean_squared_error: 219433.4526 - mean_absolute_error: 255.8424 - val_loss: 338212.2806 - val_mean_squared_error: 338212.2806 - val_mean_absolute_error: 307.9439\n",
      "Epoch 279/300\n",
      "43683/43683 [==============================] - 1s 17us/step - loss: 222269.3178 - mean_squared_error: 222269.3178 - mean_absolute_error: 258.3725 - val_loss: 329338.8308 - val_mean_squared_error: 329338.8308 - val_mean_absolute_error: 300.2087\n",
      "Epoch 280/300\n",
      "43683/43683 [==============================] - 1s 17us/step - loss: 222386.2160 - mean_squared_error: 222386.2160 - mean_absolute_error: 258.5965 - val_loss: 325149.7209 - val_mean_squared_error: 325149.7209 - val_mean_absolute_error: 300.7684\n",
      "Epoch 281/300\n",
      "43683/43683 [==============================] - 1s 17us/step - loss: 223480.2400 - mean_squared_error: 223480.2400 - mean_absolute_error: 258.8710 - val_loss: 323014.2533 - val_mean_squared_error: 323014.2533 - val_mean_absolute_error: 295.3630\n",
      "Epoch 282/300\n",
      "43683/43683 [==============================] - 1s 18us/step - loss: 219713.9916 - mean_squared_error: 219713.9916 - mean_absolute_error: 256.9233 - val_loss: 350919.9652 - val_mean_squared_error: 350919.9652 - val_mean_absolute_error: 311.7579\n",
      "Epoch 283/300\n",
      "43683/43683 [==============================] - 1s 19us/step - loss: 218799.4068 - mean_squared_error: 218799.4068 - mean_absolute_error: 256.9758 - val_loss: 329217.9837 - val_mean_squared_error: 329217.9837 - val_mean_absolute_error: 301.3170\n",
      "Epoch 284/300\n",
      "43683/43683 [==============================] - 1s 17us/step - loss: 222010.9278 - mean_squared_error: 222010.9278 - mean_absolute_error: 259.0116 - val_loss: 316379.0382 - val_mean_squared_error: 316379.0382 - val_mean_absolute_error: 291.1479\n",
      "Epoch 285/300\n",
      "43683/43683 [==============================] - 1s 18us/step - loss: 219696.6501 - mean_squared_error: 219696.6501 - mean_absolute_error: 256.8652 - val_loss: 334025.1162 - val_mean_squared_error: 334025.1162 - val_mean_absolute_error: 316.1526\n",
      "Epoch 286/300\n",
      "43683/43683 [==============================] - 1s 17us/step - loss: 220019.2158 - mean_squared_error: 220019.2158 - mean_absolute_error: 257.1469 - val_loss: 323045.1903 - val_mean_squared_error: 323045.1903 - val_mean_absolute_error: 298.6683\n",
      "Epoch 287/300\n",
      "43683/43683 [==============================] - 1s 18us/step - loss: 223879.4121 - mean_squared_error: 223879.4121 - mean_absolute_error: 259.4762 - val_loss: 317919.7824 - val_mean_squared_error: 317919.7824 - val_mean_absolute_error: 293.9811\n",
      "Epoch 288/300\n",
      "43683/43683 [==============================] - 1s 18us/step - loss: 223328.2240 - mean_squared_error: 223328.2240 - mean_absolute_error: 259.6871 - val_loss: 317206.0966 - val_mean_squared_error: 317206.0966 - val_mean_absolute_error: 297.0782\n"
     ]
    },
    {
     "name": "stdout",
     "output_type": "stream",
     "text": [
      "Epoch 289/300\n",
      "43683/43683 [==============================] - 1s 16us/step - loss: 222425.1068 - mean_squared_error: 222425.1068 - mean_absolute_error: 257.9339 - val_loss: 314584.2314 - val_mean_squared_error: 314584.2314 - val_mean_absolute_error: 295.8217\n",
      "Epoch 290/300\n",
      "43683/43683 [==============================] - 1s 16us/step - loss: 217078.4854 - mean_squared_error: 217078.4854 - mean_absolute_error: 256.4051 - val_loss: 336360.9698 - val_mean_squared_error: 336360.9698 - val_mean_absolute_error: 298.7025\n",
      "Epoch 291/300\n",
      "43683/43683 [==============================] - 1s 16us/step - loss: 220302.8936 - mean_squared_error: 220302.8936 - mean_absolute_error: 256.2858 - val_loss: 334589.8786 - val_mean_squared_error: 334589.8786 - val_mean_absolute_error: 305.3125\n",
      "Epoch 292/300\n",
      "43683/43683 [==============================] - 1s 16us/step - loss: 219001.2695 - mean_squared_error: 219001.2695 - mean_absolute_error: 256.7644 - val_loss: 331803.6471 - val_mean_squared_error: 331803.6471 - val_mean_absolute_error: 300.5073\n",
      "Epoch 293/300\n",
      "43683/43683 [==============================] - 1s 17us/step - loss: 220737.8018 - mean_squared_error: 220737.8018 - mean_absolute_error: 257.4353 - val_loss: 309749.5336 - val_mean_squared_error: 309749.5336 - val_mean_absolute_error: 292.0766\n",
      "Epoch 294/300\n",
      "43683/43683 [==============================] - 1s 16us/step - loss: 221082.5694 - mean_squared_error: 221082.5694 - mean_absolute_error: 259.1462 - val_loss: 313019.8272 - val_mean_squared_error: 313019.8272 - val_mean_absolute_error: 298.1086\n",
      "Epoch 295/300\n",
      "43683/43683 [==============================] - 1s 17us/step - loss: 216298.0647 - mean_squared_error: 216298.0647 - mean_absolute_error: 256.0001 - val_loss: 319486.1970 - val_mean_squared_error: 319486.1970 - val_mean_absolute_error: 296.8385\n",
      "Epoch 296/300\n",
      "43683/43683 [==============================] - 1s 16us/step - loss: 217885.5888 - mean_squared_error: 217885.5888 - mean_absolute_error: 255.6660 - val_loss: 355715.1252 - val_mean_squared_error: 355715.1252 - val_mean_absolute_error: 320.0989\n",
      "Epoch 297/300\n",
      "43683/43683 [==============================] - 1s 17us/step - loss: 217165.9177 - mean_squared_error: 217165.9177 - mean_absolute_error: 254.9041 - val_loss: 329828.0851 - val_mean_squared_error: 329828.0851 - val_mean_absolute_error: 310.6010\n",
      "Epoch 298/300\n",
      "43683/43683 [==============================] - 1s 16us/step - loss: 217449.6751 - mean_squared_error: 217449.6751 - mean_absolute_error: 255.4519 - val_loss: 345473.7613 - val_mean_squared_error: 345473.7613 - val_mean_absolute_error: 313.3799\n",
      "Epoch 299/300\n",
      "43683/43683 [==============================] - 1s 17us/step - loss: 216527.5626 - mean_squared_error: 216527.5626 - mean_absolute_error: 256.9124 - val_loss: 324821.6176 - val_mean_squared_error: 324821.6176 - val_mean_absolute_error: 299.6042\n",
      "Epoch 300/300\n",
      "43683/43683 [==============================] - 1s 17us/step - loss: 217827.5223 - mean_squared_error: 217827.5223 - mean_absolute_error: 256.7584 - val_loss: 327722.7147 - val_mean_squared_error: 327722.7147 - val_mean_absolute_error: 297.6443\n"
     ]
    }
   ],
   "source": [
    "batch_size = 64\n",
    "n_epochs = 300\n",
    "history = nn_reg2.fit(X_train, y_train,\n",
    "                      epochs=n_epochs,\n",
    "                      batch_size=batch_size,\n",
    "                      validation_split=0.1)"
   ]
  },
  {
   "cell_type": "code",
   "execution_count": 23,
   "metadata": {},
   "outputs": [
    {
     "name": "stdout",
     "output_type": "stream",
     "text": [
      "dict_keys(['val_loss', 'val_mean_squared_error', 'val_mean_absolute_error', 'loss', 'mean_squared_error', 'mean_absolute_error'])\n"
     ]
    }
   ],
   "source": [
    "print(history.history.keys())"
   ]
  },
  {
   "cell_type": "code",
   "execution_count": 24,
   "metadata": {},
   "outputs": [
    {
     "data": {
      "image/png": "[encoded data removed]",
      "text/plain": [
       "<Figure size 576x360 with 1 Axes>"
      ]
     },
     "metadata": {},
     "output_type": "display_data"
    }
   ],
   "source": [
    "fig, ax = plt.subplots(figsize=(8,5))\n",
    "ax.plot(np.log(history.history['loss']), label='Training Loss')\n",
    "ax.plot(np.log(history.history['val_loss']), label='Validation Loss')\n",
    "ax.set_title(\"log(Loss) vs. epochs\", fontsize=15)\n",
    "ax.set_xlabel(\"epoch number\", fontsize=14)\n",
    "ax.legend(fontsize=12)\n",
    "ax.set_ylim(12,14)\n",
    "ax.grid();"
   ]
  },
  {
   "cell_type": "code",
   "execution_count": 25,
   "metadata": {},
   "outputs": [
    {
     "data": {
      "image/png": "[encoded data removed]",
      "text/plain": [
       "<Figure size 576x360 with 1 Axes>"
      ]
     },
     "metadata": {},
     "output_type": "display_data"
    }
   ],
   "source": [
    "fig, ax = plt.subplots(figsize=(8,5))\n",
    "ax.plot(history.history['mean_absolute_error'], label='Train MAE')\n",
    "ax.plot(history.history['val_mean_absolute_error'], label='Validation MAE')\n",
    "ax.set_title(\"MAE vs. epochs\", fontsize=15)\n",
    "ax.set_xlabel(\"epoch number\", fontsize=14)\n",
    "ax.legend(fontsize=12)\n",
    "ax.set_ylim(200,500)\n",
    "ax.grid();"
   ]
  },
  {
   "cell_type": "markdown",
   "metadata": {},
   "source": [
    "## Early stopping"
   ]
  },
  {
   "cell_type": "code",
   "execution_count": 26,
   "metadata": {},
   "outputs": [],
   "source": [
    "from keras.callbacks import EarlyStopping\n",
    "early_stoping = EarlyStopping(monitor='val_mean_absolute_error',\n",
    "                              min_delta=5,\n",
    "                              patience=20,\n",
    "                              verbose=1,\n",
    "                              mode='auto')"
   ]
  },
  {
   "cell_type": "code",
   "execution_count": 27,
   "metadata": {},
   "outputs": [],
   "source": [
    "nn_reg2 = Sequential()\n",
    "n_hidden = 64\n",
    "# hidden layers\n",
    "nn_reg2.add(Dense(units=n_hidden, activation='relu', input_shape=(n_input,)))\n",
    "nn_reg2.add(Dense(units=n_hidden, activation='relu'))\n",
    "nn_reg2.add(Dense(units=n_hidden, activation='relu'))\n",
    "nn_reg2.add(Dense(units=n_hidden, activation='relu'))\n",
    "nn_reg2.add(Dense(units=n_hidden, activation='relu'))\n",
    "nn_reg2.add(Dense(units=n_hidden, activation='relu'))\n",
    "# output layer\n",
    "nn_reg2.add(Dense(units=1, activation=None))\n",
    "# compilation\n",
    "nn_reg2.compile(loss='mean_squared_error', optimizer='adam', metrics=['mse', 'mae'])"
   ]
  },
  {
   "cell_type": "code",
   "execution_count": 28,
   "metadata": {},
   "outputs": [
    {
     "name": "stdout",
     "output_type": "stream",
     "text": [
      "Train on 43683 samples, validate on 4854 samples\n",
      "Epoch 1/300\n",
      "43683/43683 [==============================] - 1s 29us/step - loss: 3971298.1339 - mean_squared_error: 3971298.1339 - mean_absolute_error: 959.9843 - val_loss: 858543.5990 - val_mean_squared_error: 858543.5990 - val_mean_absolute_error: 470.8995\n",
      "Epoch 2/300\n",
      "43683/43683 [==============================] - 1s 19us/step - loss: 664843.2735 - mean_squared_error: 664843.2735 - mean_absolute_error: 426.5121 - val_loss: 606148.2268 - val_mean_squared_error: 606148.2268 - val_mean_absolute_error: 409.3287\n",
      "Epoch 3/300\n",
      "43683/43683 [==============================] - 1s 18us/step - loss: 498669.0013 - mean_squared_error: 498669.0013 - mean_absolute_error: 378.0779 - val_loss: 478576.7631 - val_mean_squared_error: 478576.7631 - val_mean_absolute_error: 367.9960\n",
      "Epoch 4/300\n",
      "43683/43683 [==============================] - 1s 18us/step - loss: 424679.5631 - mean_squared_error: 424679.5631 - mean_absolute_error: 362.5790 - val_loss: 422963.6257 - val_mean_squared_error: 422963.6257 - val_mean_absolute_error: 351.1087\n",
      "Epoch 5/300\n",
      "43683/43683 [==============================] - 1s 17us/step - loss: 395358.6400 - mean_squared_error: 395358.6400 - mean_absolute_error: 352.8522 - val_loss: 398500.8466 - val_mean_squared_error: 398500.8466 - val_mean_absolute_error: 352.7938\n",
      "Epoch 6/300\n",
      "43683/43683 [==============================] - 1s 17us/step - loss: 366634.7926 - mean_squared_error: 366634.7926 - mean_absolute_error: 338.9777 - val_loss: 397353.1315 - val_mean_squared_error: 397353.1315 - val_mean_absolute_error: 339.1662\n",
      "Epoch 7/300\n",
      "43683/43683 [==============================] - ETA: 0s - loss: 361327.1733 - mean_squared_error: 361327.1733 - mean_absolute_error: 336.64 - 1s 17us/step - loss: 360742.3839 - mean_squared_error: 360742.3839 - mean_absolute_error: 336.8387 - val_loss: 369713.2656 - val_mean_squared_error: 369713.2656 - val_mean_absolute_error: 327.3945\n",
      "Epoch 8/300\n",
      "43683/43683 [==============================] - 1s 17us/step - loss: 355799.4381 - mean_squared_error: 355799.4381 - mean_absolute_error: 332.4841 - val_loss: 408993.4167 - val_mean_squared_error: 408993.4167 - val_mean_absolute_error: 361.1044\n",
      "Epoch 9/300\n",
      "43683/43683 [==============================] - 1s 17us/step - loss: 345351.6136 - mean_squared_error: 345351.6136 - mean_absolute_error: 328.4983 - val_loss: 349400.4637 - val_mean_squared_error: 349400.4637 - val_mean_absolute_error: 321.2362\n",
      "Epoch 10/300\n",
      "43683/43683 [==============================] - 1s 17us/step - loss: 349472.5031 - mean_squared_error: 349472.5031 - mean_absolute_error: 329.9415 - val_loss: 387072.9991 - val_mean_squared_error: 387072.9991 - val_mean_absolute_error: 345.7321\n",
      "Epoch 11/300\n",
      "43683/43683 [==============================] - 1s 17us/step - loss: 347689.0383 - mean_squared_error: 347689.0383 - mean_absolute_error: 329.5626 - val_loss: 376938.9506 - val_mean_squared_error: 376938.9506 - val_mean_absolute_error: 345.4051\n",
      "Epoch 12/300\n",
      "43683/43683 [==============================] - 1s 17us/step - loss: 333826.2861 - mean_squared_error: 333826.2861 - mean_absolute_error: 320.7644 - val_loss: 349500.5285 - val_mean_squared_error: 349500.5285 - val_mean_absolute_error: 324.5228\n",
      "Epoch 13/300\n",
      "43683/43683 [==============================] - 1s 18us/step - loss: 325168.1613 - mean_squared_error: 325168.1613 - mean_absolute_error: 317.8386 - val_loss: 377967.9275 - val_mean_squared_error: 377967.9275 - val_mean_absolute_error: 327.4617\n",
      "Epoch 14/300\n",
      "43683/43683 [==============================] - 1s 17us/step - loss: 325014.8544 - mean_squared_error: 325014.8544 - mean_absolute_error: 317.4340 - val_loss: 340470.3075 - val_mean_squared_error: 340470.3075 - val_mean_absolute_error: 310.8787\n",
      "Epoch 15/300\n",
      "43683/43683 [==============================] - 1s 17us/step - loss: 325801.9858 - mean_squared_error: 325801.9858 - mean_absolute_error: 318.0956 - val_loss: 347913.4124 - val_mean_squared_error: 347913.4124 - val_mean_absolute_error: 311.5208\n",
      "Epoch 16/300\n",
      "43683/43683 [==============================] - 1s 17us/step - loss: 322442.4679 - mean_squared_error: 322442.4679 - mean_absolute_error: 315.5032 - val_loss: 330683.2868 - val_mean_squared_error: 330683.2868 - val_mean_absolute_error: 310.7405\n",
      "Epoch 17/300\n",
      "43683/43683 [==============================] - 1s 18us/step - loss: 317400.6191 - mean_squared_error: 317400.6191 - mean_absolute_error: 313.5516 - val_loss: 449037.8418 - val_mean_squared_error: 449037.8418 - val_mean_absolute_error: 376.3698\n",
      "Epoch 18/300\n",
      "43683/43683 [==============================] - 1s 17us/step - loss: 322910.7710 - mean_squared_error: 322910.7710 - mean_absolute_error: 316.3541 - val_loss: 324080.4148 - val_mean_squared_error: 324080.4148 - val_mean_absolute_error: 305.9961\n",
      "Epoch 19/300\n",
      "43683/43683 [==============================] - 1s 18us/step - loss: 325248.0691 - mean_squared_error: 325248.0691 - mean_absolute_error: 317.0631 - val_loss: 336095.0771 - val_mean_squared_error: 336095.0771 - val_mean_absolute_error: 309.8666\n",
      "Epoch 20/300\n",
      "43683/43683 [==============================] - 1s 17us/step - loss: 315543.1877 - mean_squared_error: 315543.1877 - mean_absolute_error: 309.5527 - val_loss: 349494.9568 - val_mean_squared_error: 349494.9568 - val_mean_absolute_error: 314.1851\n",
      "Epoch 21/300\n",
      "43683/43683 [==============================] - 1s 18us/step - loss: 308469.3138 - mean_squared_error: 308469.3138 - mean_absolute_error: 306.9352 - val_loss: 357333.8951 - val_mean_squared_error: 357333.8951 - val_mean_absolute_error: 311.8380\n",
      "Epoch 22/300\n",
      "43683/43683 [==============================] - 1s 18us/step - loss: 305121.5121 - mean_squared_error: 305121.5121 - mean_absolute_error: 306.2155 - val_loss: 358478.6633 - val_mean_squared_error: 358478.6633 - val_mean_absolute_error: 315.2194\n",
      "Epoch 23/300\n",
      "43683/43683 [==============================] - 1s 18us/step - loss: 312151.6682 - mean_squared_error: 312151.6682 - mean_absolute_error: 310.1411 - val_loss: 341077.4293 - val_mean_squared_error: 341077.4293 - val_mean_absolute_error: 307.2928\n",
      "Epoch 24/300\n",
      "43683/43683 [==============================] - 1s 18us/step - loss: 310324.4971 - mean_squared_error: 310324.4971 - mean_absolute_error: 306.6605 - val_loss: 343831.6577 - val_mean_squared_error: 343831.6577 - val_mean_absolute_error: 306.0065\n",
      "Epoch 25/300\n",
      "43683/43683 [==============================] - 1s 18us/step - loss: 309016.8199 - mean_squared_error: 309016.8199 - mean_absolute_error: 307.4378 - val_loss: 332608.0011 - val_mean_squared_error: 332608.0011 - val_mean_absolute_error: 312.8091\n",
      "Epoch 26/300\n",
      "43683/43683 [==============================] - 1s 18us/step - loss: 306283.5373 - mean_squared_error: 306283.5373 - mean_absolute_error: 304.3999 - val_loss: 319458.4568 - val_mean_squared_error: 319458.4568 - val_mean_absolute_error: 304.0926\n",
      "Epoch 27/300\n",
      "43683/43683 [==============================] - 1s 18us/step - loss: 303463.9224 - mean_squared_error: 303463.9224 - mean_absolute_error: 303.0169 - val_loss: 317547.0993 - val_mean_squared_error: 317547.0993 - val_mean_absolute_error: 299.8703\n",
      "Epoch 28/300\n",
      "43683/43683 [==============================] - 1s 18us/step - loss: 303605.4597 - mean_squared_error: 303605.4597 - mean_absolute_error: 304.5655 - val_loss: 332790.5879 - val_mean_squared_error: 332790.5879 - val_mean_absolute_error: 300.7279\n",
      "Epoch 29/300\n",
      "43683/43683 [==============================] - 1s 18us/step - loss: 303223.0404 - mean_squared_error: 303223.0404 - mean_absolute_error: 304.1536 - val_loss: 333178.8214 - val_mean_squared_error: 333178.8214 - val_mean_absolute_error: 319.6522\n",
      "Epoch 30/300\n",
      "43683/43683 [==============================] - 1s 18us/step - loss: 299312.0556 - mean_squared_error: 299312.0556 - mean_absolute_error: 301.5249 - val_loss: 348546.0299 - val_mean_squared_error: 348546.0299 - val_mean_absolute_error: 316.9711\n",
      "Epoch 31/300\n",
      "43683/43683 [==============================] - 1s 18us/step - loss: 300725.7648 - mean_squared_error: 300725.7648 - mean_absolute_error: 301.0577 - val_loss: 344866.4920 - val_mean_squared_error: 344866.4920 - val_mean_absolute_error: 318.7695\n",
      "Epoch 32/300\n"
     ]
    },
    {
     "name": "stdout",
     "output_type": "stream",
     "text": [
      "43683/43683 [==============================] - 1s 17us/step - loss: 301782.7969 - mean_squared_error: 301782.7969 - mean_absolute_error: 300.9866 - val_loss: 320425.1056 - val_mean_squared_error: 320425.1056 - val_mean_absolute_error: 302.8870\n",
      "Epoch 33/300\n",
      "43683/43683 [==============================] - 1s 17us/step - loss: 295641.9279 - mean_squared_error: 295641.9279 - mean_absolute_error: 298.1093 - val_loss: 328895.6313 - val_mean_squared_error: 328895.6313 - val_mean_absolute_error: 309.3603\n",
      "Epoch 34/300\n",
      "43683/43683 [==============================] - 1s 17us/step - loss: 302079.1082 - mean_squared_error: 302079.1082 - mean_absolute_error: 302.0973 - val_loss: 318329.2932 - val_mean_squared_error: 318329.2932 - val_mean_absolute_error: 301.8723\n",
      "Epoch 35/300\n",
      "43683/43683 [==============================] - 1s 17us/step - loss: 295393.1662 - mean_squared_error: 295393.1662 - mean_absolute_error: 297.3713 - val_loss: 319201.0025 - val_mean_squared_error: 319201.0025 - val_mean_absolute_error: 295.0567\n",
      "Epoch 36/300\n",
      "43683/43683 [==============================] - 1s 17us/step - loss: 293326.5142 - mean_squared_error: 293326.5142 - mean_absolute_error: 297.0489 - val_loss: 377095.1410 - val_mean_squared_error: 377095.1410 - val_mean_absolute_error: 313.3477\n",
      "Epoch 37/300\n",
      "43683/43683 [==============================] - 1s 17us/step - loss: 297158.8321 - mean_squared_error: 297158.8321 - mean_absolute_error: 299.8064 - val_loss: 318227.8895 - val_mean_squared_error: 318227.8895 - val_mean_absolute_error: 300.1197\n",
      "Epoch 38/300\n",
      "43683/43683 [==============================] - 1s 17us/step - loss: 291128.8880 - mean_squared_error: 291128.8880 - mean_absolute_error: 294.9835 - val_loss: 325670.1295 - val_mean_squared_error: 325670.1295 - val_mean_absolute_error: 303.7269\n",
      "Epoch 39/300\n",
      "43683/43683 [==============================] - 1s 17us/step - loss: 297966.0885 - mean_squared_error: 297966.0885 - mean_absolute_error: 299.5395 - val_loss: 327737.4196 - val_mean_squared_error: 327737.4196 - val_mean_absolute_error: 311.4939\n",
      "Epoch 40/300\n",
      "43683/43683 [==============================] - 1s 17us/step - loss: 297983.4621 - mean_squared_error: 297983.4621 - mean_absolute_error: 298.9555 - val_loss: 312852.1933 - val_mean_squared_error: 312852.1933 - val_mean_absolute_error: 296.1988\n",
      "Epoch 41/300\n",
      "43683/43683 [==============================] - 1s 17us/step - loss: 290912.7597 - mean_squared_error: 290912.7597 - mean_absolute_error: 295.7412 - val_loss: 331147.5724 - val_mean_squared_error: 331147.5724 - val_mean_absolute_error: 305.8624\n",
      "Epoch 42/300\n",
      "43683/43683 [==============================] - 1s 17us/step - loss: 290309.7830 - mean_squared_error: 290309.7830 - mean_absolute_error: 295.3178 - val_loss: 321725.5956 - val_mean_squared_error: 321725.5956 - val_mean_absolute_error: 306.5851\n",
      "Epoch 43/300\n",
      "43683/43683 [==============================] - 1s 17us/step - loss: 291477.6940 - mean_squared_error: 291477.6940 - mean_absolute_error: 293.7234 - val_loss: 325356.2725 - val_mean_squared_error: 325356.2725 - val_mean_absolute_error: 316.4763\n",
      "Epoch 44/300\n",
      "43683/43683 [==============================] - 1s 17us/step - loss: 284923.9521 - mean_squared_error: 284923.9521 - mean_absolute_error: 290.6122 - val_loss: 321745.1654 - val_mean_squared_error: 321745.1654 - val_mean_absolute_error: 308.0230\n",
      "Epoch 45/300\n",
      "43683/43683 [==============================] - 1s 17us/step - loss: 292838.6468 - mean_squared_error: 292838.6468 - mean_absolute_error: 296.5821 - val_loss: 322840.1067 - val_mean_squared_error: 322840.1067 - val_mean_absolute_error: 304.4508\n",
      "Epoch 46/300\n",
      "43683/43683 [==============================] - 1s 17us/step - loss: 284338.2579 - mean_squared_error: 284338.2579 - mean_absolute_error: 290.5463 - val_loss: 338827.0693 - val_mean_squared_error: 338827.0693 - val_mean_absolute_error: 317.0167\n",
      "Epoch 47/300\n",
      "43683/43683 [==============================] - 1s 17us/step - loss: 285082.9709 - mean_squared_error: 285082.9709 - mean_absolute_error: 290.7998 - val_loss: 318181.2082 - val_mean_squared_error: 318181.2082 - val_mean_absolute_error: 299.9654\n",
      "Epoch 48/300\n",
      "43683/43683 [==============================] - 1s 17us/step - loss: 285525.6185 - mean_squared_error: 285525.6185 - mean_absolute_error: 292.3229 - val_loss: 332262.0528 - val_mean_squared_error: 332262.0528 - val_mean_absolute_error: 315.8281\n",
      "Epoch 49/300\n",
      "43683/43683 [==============================] - 1s 17us/step - loss: 284551.5494 - mean_squared_error: 284551.5494 - mean_absolute_error: 290.9704 - val_loss: 322525.3794 - val_mean_squared_error: 322525.3794 - val_mean_absolute_error: 298.6262\n",
      "Epoch 50/300\n",
      "43683/43683 [==============================] - 1s 18us/step - loss: 284600.6127 - mean_squared_error: 284600.6127 - mean_absolute_error: 290.0088 - val_loss: 344297.1903 - val_mean_squared_error: 344297.1903 - val_mean_absolute_error: 328.6700\n",
      "Epoch 51/300\n",
      "43683/43683 [==============================] - 1s 18us/step - loss: 282356.6250 - mean_squared_error: 282356.6250 - mean_absolute_error: 290.2851 - val_loss: 334436.2082 - val_mean_squared_error: 334436.2082 - val_mean_absolute_error: 309.9240\n",
      "Epoch 52/300\n",
      "43683/43683 [==============================] - 1s 17us/step - loss: 290179.5243 - mean_squared_error: 290179.5243 - mean_absolute_error: 295.0352 - val_loss: 359570.0248 - val_mean_squared_error: 359570.0248 - val_mean_absolute_error: 319.6560\n",
      "Epoch 53/300\n",
      "43683/43683 [==============================] - 1s 18us/step - loss: 284667.3480 - mean_squared_error: 284667.3480 - mean_absolute_error: 291.8656 - val_loss: 358559.3137 - val_mean_squared_error: 358559.3137 - val_mean_absolute_error: 328.3038\n",
      "Epoch 54/300\n",
      "43683/43683 [==============================] - 1s 18us/step - loss: 285167.3916 - mean_squared_error: 285167.3916 - mean_absolute_error: 293.6804 - val_loss: 322474.2881 - val_mean_squared_error: 322474.2881 - val_mean_absolute_error: 300.6379\n",
      "Epoch 55/300\n",
      "43683/43683 [==============================] - 1s 18us/step - loss: 281785.2004 - mean_squared_error: 281785.2004 - mean_absolute_error: 292.7236 - val_loss: 310522.5286 - val_mean_squared_error: 310522.5286 - val_mean_absolute_error: 303.9623\n",
      "Epoch 00055: early stopping\n"
     ]
    }
   ],
   "source": [
    "batch_size = 64\n",
    "n_epochs = 300\n",
    "history = nn_reg2.fit(X_train, y_train,\n",
    "                      epochs=n_epochs,\n",
    "                      batch_size=batch_size,\n",
    "                      validation_split=0.1,\n",
    "                      callbacks=[early_stoping])"
   ]
  },
  {
   "cell_type": "code",
   "execution_count": 29,
   "metadata": {},
   "outputs": [
    {
     "data": {
      "image/png": "[encoded data removed]",
      "text/plain": [
       "<Figure size 576x360 with 1 Axes>"
      ]
     },
     "metadata": {},
     "output_type": "display_data"
    }
   ],
   "source": [
    "fig, ax = plt.subplots(figsize=(8,5))\n",
    "ax.plot(np.log(history.history['loss']), label='Training Loss')\n",
    "ax.plot(np.log(history.history['val_loss']), label='Validation Loss')\n",
    "ax.set_title(\"log(Loss) vs. epochs\", fontsize=15)\n",
    "ax.set_xlabel(\"epoch number\", fontsize=14)\n",
    "ax.legend(fontsize=12)\n",
    "ax.set_ylim(12,14)\n",
    "ax.grid();"
   ]
  },
  {
   "cell_type": "code",
   "execution_count": 30,
   "metadata": {},
   "outputs": [
    {
     "data": {
      "image/png": "[encoded data removed]",
      "text/plain": [
       "<Figure size 576x360 with 1 Axes>"
      ]
     },
     "metadata": {},
     "output_type": "display_data"
    }
   ],
   "source": [
    "fig, ax = plt.subplots(figsize=(8,5))\n",
    "ax.plot(history.history['mean_absolute_error'], label='Train MAE')\n",
    "ax.plot(history.history['val_mean_absolute_error'], label='Validation MAE')\n",
    "ax.set_title(\"MAE vs. epochs\", fontsize=15)\n",
    "ax.set_xlabel(\"epoch number\", fontsize=14)\n",
    "ax.legend(fontsize=12)\n",
    "ax.set_ylim(200,500)\n",
    "ax.grid();"
   ]
  },
  {
   "cell_type": "markdown",
   "metadata": {},
   "source": [
    "### Dropout"
   ]
  },
  {
   "cell_type": "code",
   "execution_count": 31,
   "metadata": {},
   "outputs": [],
   "source": [
    "from keras.layers import Dropout"
   ]
  },
  {
   "cell_type": "code",
   "execution_count": 42,
   "metadata": {},
   "outputs": [],
   "source": [
    "nn_reg_dropout = Sequential()\n",
    "n_hidden = 64\n",
    "dropout_rate = 0.2\n",
    "\n",
    "## Dropout for input layer\n",
    "nn_reg_dropout.add(Dropout(rate=dropout_rate, input_shape=(n_input,)))\n",
    "                   \n",
    "## Now adding four hidden layers + dropout for each of them\n",
    "nn_reg_dropout.add(Dense(units=n_hidden, activation='relu', input_shape=(n_input,)))\n",
    "nn_reg_dropout.add(Dropout(rate=dropout_rate))\n",
    "                   \n",
    "nn_reg_dropout.add(Dense(units=n_hidden, activation='relu'))\n",
    "nn_reg_dropout.add(Dropout(rate=dropout_rate))\n",
    "\n",
    "nn_reg_dropout.add(Dense(units=n_hidden, activation='relu'))\n",
    "nn_reg_dropout.add(Dropout(rate=dropout_rate))\n",
    "\n",
    "nn_reg_dropout.add(Dense(units=n_hidden, activation='relu'))\n",
    "nn_reg_dropout.add(Dropout(rate=dropout_rate))\n",
    "\n",
    "nn_reg_dropout.add(Dense(units=n_hidden, activation='relu'))\n",
    "nn_reg_dropout.add(Dropout(rate=dropout_rate))\n",
    "\n",
    "nn_reg_dropout.add(Dense(units=n_hidden, activation='relu'))\n",
    "nn_reg_dropout.add(Dropout(rate=dropout_rate))\n",
    "\n",
    "nn_reg_dropout.add(Dense(units=1, activation=None))"
   ]
  },
  {
   "cell_type": "code",
   "execution_count": 43,
   "metadata": {},
   "outputs": [
    {
     "name": "stdout",
     "output_type": "stream",
     "text": [
      "_________________________________________________________________\n",
      "Layer (type)                 Output Shape              Param #   \n",
      "=================================================================\n",
      "dropout_14 (Dropout)         (None, 21)                0         \n",
      "_________________________________________________________________\n",
      "dense_33 (Dense)             (None, 64)                1408      \n",
      "_________________________________________________________________\n",
      "dropout_15 (Dropout)         (None, 64)                0         \n",
      "_________________________________________________________________\n",
      "dense_34 (Dense)             (None, 64)                4160      \n",
      "_________________________________________________________________\n",
      "dropout_16 (Dropout)         (None, 64)                0         \n",
      "_________________________________________________________________\n",
      "dense_35 (Dense)             (None, 64)                4160      \n",
      "_________________________________________________________________\n",
      "dropout_17 (Dropout)         (None, 64)                0         \n",
      "_________________________________________________________________\n",
      "dense_36 (Dense)             (None, 64)                4160      \n",
      "_________________________________________________________________\n",
      "dropout_18 (Dropout)         (None, 64)                0         \n",
      "_________________________________________________________________\n",
      "dense_37 (Dense)             (None, 64)                4160      \n",
      "_________________________________________________________________\n",
      "dropout_19 (Dropout)         (None, 64)                0         \n",
      "_________________________________________________________________\n",
      "dense_38 (Dense)             (None, 64)                4160      \n",
      "_________________________________________________________________\n",
      "dropout_20 (Dropout)         (None, 64)                0         \n",
      "_________________________________________________________________\n",
      "dense_39 (Dense)             (None, 1)                 65        \n",
      "=================================================================\n",
      "Total params: 22,273\n",
      "Trainable params: 22,273\n",
      "Non-trainable params: 0\n",
      "_________________________________________________________________\n"
     ]
    }
   ],
   "source": [
    "nn_reg_dropout.summary()"
   ]
  },
  {
   "cell_type": "code",
   "execution_count": 44,
   "metadata": {},
   "outputs": [],
   "source": [
    "# compilation\n",
    "nn_reg_dropout.compile(loss='mean_squared_error', optimizer='adam', metrics=['mse', 'mae'])"
   ]
  },
  {
   "cell_type": "code",
   "execution_count": 45,
   "metadata": {},
   "outputs": [
    {
     "name": "stdout",
     "output_type": "stream",
     "text": [
      "Train on 43683 samples, validate on 4854 samples\n",
      "Epoch 1/300\n",
      "43683/43683 [==============================] - 3s 61us/step - loss: 7056848.1857 - mean_squared_error: 7056848.1857 - mean_absolute_error: 1530.9650 - val_loss: 1917829.4800 - val_mean_squared_error: 1917829.4800 - val_mean_absolute_error: 729.7282\n",
      "Epoch 2/300\n",
      "43683/43683 [==============================] - 2s 40us/step - loss: 3599152.4224 - mean_squared_error: 3599152.4224 - mean_absolute_error: 1114.1021 - val_loss: 2051929.0018 - val_mean_squared_error: 2051929.0018 - val_mean_absolute_error: 794.5413\n",
      "Epoch 3/300\n",
      "43683/43683 [==============================] - 2s 38us/step - loss: 2998167.5887 - mean_squared_error: 2998167.5887 - mean_absolute_error: 1009.2288 - val_loss: 1630163.3510 - val_mean_squared_error: 1630163.3510 - val_mean_absolute_error: 694.9472\n",
      "Epoch 4/300\n",
      "43683/43683 [==============================] - 2s 37us/step - loss: 2859841.7104 - mean_squared_error: 2859841.7104 - mean_absolute_error: 975.7311 - val_loss: 2298910.6467 - val_mean_squared_error: 2298910.6467 - val_mean_absolute_error: 853.2973\n",
      "Epoch 5/300\n",
      "43683/43683 [==============================] - 2s 39us/step - loss: 2946218.5295 - mean_squared_error: 2946218.5295 - mean_absolute_error: 959.5505 - val_loss: 1681345.9508 - val_mean_squared_error: 1681345.9508 - val_mean_absolute_error: 689.1179\n",
      "Epoch 6/300\n",
      "43683/43683 [==============================] - 2s 40us/step - loss: 2775678.7914 - mean_squared_error: 2775678.7914 - mean_absolute_error: 936.9933 - val_loss: 1617741.5789 - val_mean_squared_error: 1617741.5789 - val_mean_absolute_error: 677.5043\n",
      "Epoch 7/300\n",
      "43683/43683 [==============================] - 2s 37us/step - loss: 2680325.8420 - mean_squared_error: 2680325.8420 - mean_absolute_error: 918.1463 - val_loss: 1674856.8838 - val_mean_squared_error: 1674856.8838 - val_mean_absolute_error: 706.5609\n",
      "Epoch 8/300\n",
      "43683/43683 [==============================] - 2s 38us/step - loss: 2628544.0841 - mean_squared_error: 2628544.0841 - mean_absolute_error: 900.8631 - val_loss: 2390687.3708 - val_mean_squared_error: 2390687.3708 - val_mean_absolute_error: 849.0707\n",
      "Epoch 9/300\n",
      "43683/43683 [==============================] - 2s 39us/step - loss: 2602212.0579 - mean_squared_error: 2602212.0579 - mean_absolute_error: 894.3934 - val_loss: 1446656.2374 - val_mean_squared_error: 1446656.2374 - val_mean_absolute_error: 667.4444\n",
      "Epoch 10/300\n",
      "43683/43683 [==============================] - 2s 38us/step - loss: 2649745.2244 - mean_squared_error: 2649745.2244 - mean_absolute_error: 898.9981 - val_loss: 2434562.0144 - val_mean_squared_error: 2434562.0144 - val_mean_absolute_error: 860.1604\n",
      "Epoch 11/300\n",
      "43683/43683 [==============================] - 2s 38us/step - loss: 2697363.1398 - mean_squared_error: 2697363.1398 - mean_absolute_error: 897.2531 - val_loss: 4283824.2958 - val_mean_squared_error: 4283824.2958 - val_mean_absolute_error: 1154.4502\n",
      "Epoch 12/300\n",
      "43683/43683 [==============================] - 2s 38us/step - loss: 2636161.1001 - mean_squared_error: 2636161.1001 - mean_absolute_error: 894.6630 - val_loss: 2493891.0856 - val_mean_squared_error: 2493891.0856 - val_mean_absolute_error: 868.1317\n",
      "Epoch 13/300\n",
      "43683/43683 [==============================] - 2s 39us/step - loss: 2616342.4551 - mean_squared_error: 2616342.4551 - mean_absolute_error: 895.9170 - val_loss: 1926110.1518 - val_mean_squared_error: 1926110.1518 - val_mean_absolute_error: 776.2233\n",
      "Epoch 14/300\n",
      "43683/43683 [==============================] - 2s 38us/step - loss: 2628100.9460 - mean_squared_error: 2628100.9460 - mean_absolute_error: 892.8564 - val_loss: 1707995.9365 - val_mean_squared_error: 1707995.9365 - val_mean_absolute_error: 700.0910\n",
      "Epoch 15/300\n",
      "43683/43683 [==============================] - 2s 39us/step - loss: 2572391.2464 - mean_squared_error: 2572391.2464 - mean_absolute_error: 884.0530 - val_loss: 1917419.8867 - val_mean_squared_error: 1917419.8867 - val_mean_absolute_error: 757.1912\n",
      "Epoch 16/300\n",
      "43683/43683 [==============================] - 2s 40us/step - loss: 2582245.2480 - mean_squared_error: 2582245.2480 - mean_absolute_error: 884.0634 - val_loss: 2652496.0240 - val_mean_squared_error: 2652496.0240 - val_mean_absolute_error: 893.2289\n",
      "Epoch 17/300\n",
      "43683/43683 [==============================] - 2s 39us/step - loss: 2562824.5170 - mean_squared_error: 2562824.5170 - mean_absolute_error: 885.0397 - val_loss: 1986275.9610 - val_mean_squared_error: 1986275.9610 - val_mean_absolute_error: 765.9693\n",
      "Epoch 18/300\n",
      "43683/43683 [==============================] - 2s 39us/step - loss: 2488957.4605 - mean_squared_error: 2488957.4605 - mean_absolute_error: 874.8590 - val_loss: 2594854.4841 - val_mean_squared_error: 2594854.4841 - val_mean_absolute_error: 892.4161\n",
      "Epoch 19/300\n",
      "43683/43683 [==============================] - 2s 39us/step - loss: 2484091.9895 - mean_squared_error: 2484091.9895 - mean_absolute_error: 873.5829 - val_loss: 1491175.6534 - val_mean_squared_error: 1491175.6534 - val_mean_absolute_error: 694.6900\n",
      "Epoch 20/300\n",
      "43683/43683 [==============================] - 2s 40us/step - loss: 2520700.7653 - mean_squared_error: 2520700.7653 - mean_absolute_error: 879.0025 - val_loss: 2118610.8878 - val_mean_squared_error: 2118610.8878 - val_mean_absolute_error: 783.1415\n",
      "Epoch 21/300\n",
      "43683/43683 [==============================] - 2s 42us/step - loss: 2493357.8782 - mean_squared_error: 2493357.8782 - mean_absolute_error: 872.0649 - val_loss: 2161939.0357 - val_mean_squared_error: 2161939.0357 - val_mean_absolute_error: 806.9831\n",
      "Epoch 22/300\n",
      "43683/43683 [==============================] - 2s 40us/step - loss: 2518534.6073 - mean_squared_error: 2518534.6073 - mean_absolute_error: 879.1072 - val_loss: 1754263.2198 - val_mean_squared_error: 1754263.2198 - val_mean_absolute_error: 721.4002\n",
      "Epoch 23/300\n",
      "43683/43683 [==============================] - 2s 39us/step - loss: 2518341.1024 - mean_squared_error: 2518341.1024 - mean_absolute_error: 878.5648 - val_loss: 1905804.2070 - val_mean_squared_error: 1905804.2070 - val_mean_absolute_error: 759.5980\n",
      "Epoch 24/300\n",
      "43683/43683 [==============================] - 2s 39us/step - loss: 2503950.9361 - mean_squared_error: 2503950.9361 - mean_absolute_error: 872.5746 - val_loss: 2522807.3854 - val_mean_squared_error: 2522807.3854 - val_mean_absolute_error: 865.5428\n",
      "Epoch 25/300\n",
      "43683/43683 [==============================] - 2s 39us/step - loss: 2502687.2664 - mean_squared_error: 2502687.2664 - mean_absolute_error: 871.3835 - val_loss: 1679711.5297 - val_mean_squared_error: 1679711.5297 - val_mean_absolute_error: 715.6993\n",
      "Epoch 26/300\n",
      "43683/43683 [==============================] - 2s 40us/step - loss: 2508678.9156 - mean_squared_error: 2508678.9156 - mean_absolute_error: 875.4117 - val_loss: 1861467.3355 - val_mean_squared_error: 1861467.3355 - val_mean_absolute_error: 742.7056\n",
      "Epoch 27/300\n",
      "43683/43683 [==============================] - 2s 39us/step - loss: 2519583.4616 - mean_squared_error: 2519583.4616 - mean_absolute_error: 874.3159 - val_loss: 2076302.4707 - val_mean_squared_error: 2076302.4707 - val_mean_absolute_error: 788.4024\n",
      "Epoch 28/300\n",
      "43683/43683 [==============================] - 2s 40us/step - loss: 2569530.9783 - mean_squared_error: 2569530.9783 - mean_absolute_error: 889.0157 - val_loss: 3010874.7354 - val_mean_squared_error: 3010874.7354 - val_mean_absolute_error: 913.2536\n",
      "Epoch 29/300\n",
      "43683/43683 [==============================] - 2s 41us/step - loss: 2446569.1700 - mean_squared_error: 2446569.1700 - mean_absolute_error: 869.7866 - val_loss: 2518918.1774 - val_mean_squared_error: 2518918.1774 - val_mean_absolute_error: 875.0241\n",
      "Epoch 30/300\n",
      "43683/43683 [==============================] - 2s 41us/step - loss: 2471289.1728 - mean_squared_error: 2471289.1728 - mean_absolute_error: 866.3759 - val_loss: 1587325.4404 - val_mean_squared_error: 1587325.4404 - val_mean_absolute_error: 705.9450\n",
      "Epoch 31/300\n",
      "43683/43683 [==============================] - 2s 40us/step - loss: 2470413.3148 - mean_squared_error: 2470413.3148 - mean_absolute_error: 869.8803 - val_loss: 2195198.1371 - val_mean_squared_error: 2195198.1371 - val_mean_absolute_error: 821.0113\n",
      "Epoch 32/300\n"
     ]
    },
    {
     "name": "stdout",
     "output_type": "stream",
     "text": [
      "43683/43683 [==============================] - 2s 36us/step - loss: 2425338.6459 - mean_squared_error: 2425338.6459 - mean_absolute_error: 869.1572 - val_loss: 2470105.6550 - val_mean_squared_error: 2470105.6550 - val_mean_absolute_error: 858.4198\n",
      "Epoch 33/300\n",
      "43683/43683 [==============================] - 2s 35us/step - loss: 2347324.6233 - mean_squared_error: 2347324.6233 - mean_absolute_error: 852.5272 - val_loss: 2269985.6424 - val_mean_squared_error: 2269985.6424 - val_mean_absolute_error: 790.4547\n",
      "Epoch 34/300\n",
      "43683/43683 [==============================] - 2s 36us/step - loss: 2375233.3865 - mean_squared_error: 2375233.3865 - mean_absolute_error: 853.6091 - val_loss: 2366680.8762 - val_mean_squared_error: 2366680.8762 - val_mean_absolute_error: 860.4680\n",
      "Epoch 35/300\n",
      "43683/43683 [==============================] - 2s 39us/step - loss: 2379733.7514 - mean_squared_error: 2379733.7514 - mean_absolute_error: 859.4008 - val_loss: 2192248.2843 - val_mean_squared_error: 2192248.2843 - val_mean_absolute_error: 806.0109\n",
      "Epoch 36/300\n",
      "43683/43683 [==============================] - 2s 39us/step - loss: 2345040.5379 - mean_squared_error: 2345040.5379 - mean_absolute_error: 849.1152 - val_loss: 2233511.1045 - val_mean_squared_error: 2233511.1045 - val_mean_absolute_error: 816.9974\n",
      "Epoch 37/300\n",
      "43683/43683 [==============================] - 2s 38us/step - loss: 2359396.1992 - mean_squared_error: 2359396.1992 - mean_absolute_error: 852.8410 - val_loss: 1827377.6620 - val_mean_squared_error: 1827377.6620 - val_mean_absolute_error: 742.7667\n",
      "Epoch 38/300\n",
      "43683/43683 [==============================] - 2s 39us/step - loss: 2413633.6340 - mean_squared_error: 2413633.6340 - mean_absolute_error: 861.3333 - val_loss: 1631376.8444 - val_mean_squared_error: 1631376.8444 - val_mean_absolute_error: 714.1107\n",
      "Epoch 39/300\n",
      "43683/43683 [==============================] - 2s 39us/step - loss: 2392561.4357 - mean_squared_error: 2392561.4357 - mean_absolute_error: 857.3816 - val_loss: 2208108.4749 - val_mean_squared_error: 2208108.4749 - val_mean_absolute_error: 810.2036\n",
      "Epoch 40/300\n",
      "43683/43683 [==============================] - 2s 38us/step - loss: 2341152.3133 - mean_squared_error: 2341152.3133 - mean_absolute_error: 845.5265 - val_loss: 1858812.4568 - val_mean_squared_error: 1858812.4568 - val_mean_absolute_error: 755.1400\n",
      "Epoch 41/300\n",
      "43683/43683 [==============================] - 2s 40us/step - loss: 2391797.8384 - mean_squared_error: 2391797.8384 - mean_absolute_error: 860.1065 - val_loss: 1772789.1562 - val_mean_squared_error: 1772789.1562 - val_mean_absolute_error: 755.4093\n",
      "Epoch 42/300\n",
      "43683/43683 [==============================] - 2s 40us/step - loss: 2351179.4233 - mean_squared_error: 2351179.4233 - mean_absolute_error: 852.0805 - val_loss: 2212880.5855 - val_mean_squared_error: 2212880.5855 - val_mean_absolute_error: 843.2093\n",
      "Epoch 43/300\n",
      "43683/43683 [==============================] - 2s 37us/step - loss: 2416964.5926 - mean_squared_error: 2416964.5926 - mean_absolute_error: 851.5158 - val_loss: 1578263.8932 - val_mean_squared_error: 1578263.8932 - val_mean_absolute_error: 707.3706\n",
      "Epoch 44/300\n",
      "43683/43683 [==============================] - 2s 38us/step - loss: 2442617.7598 - mean_squared_error: 2442617.7598 - mean_absolute_error: 861.8822 - val_loss: 1802964.3245 - val_mean_squared_error: 1802964.3245 - val_mean_absolute_error: 764.1634\n",
      "Epoch 45/300\n",
      "43683/43683 [==============================] - 2s 37us/step - loss: 2293196.0148 - mean_squared_error: 2293196.0148 - mean_absolute_error: 845.2637 - val_loss: 2280825.3803 - val_mean_squared_error: 2280825.3803 - val_mean_absolute_error: 839.5563\n",
      "Epoch 46/300\n",
      "43683/43683 [==============================] - 2s 39us/step - loss: 2331657.3828 - mean_squared_error: 2331657.3828 - mean_absolute_error: 844.6252 - val_loss: 2037328.2868 - val_mean_squared_error: 2037328.2868 - val_mean_absolute_error: 791.9384\n",
      "Epoch 47/300\n",
      "43683/43683 [==============================] - 2s 38us/step - loss: 2367294.9070 - mean_squared_error: 2367294.9070 - mean_absolute_error: 851.5479 - val_loss: 2315539.2468 - val_mean_squared_error: 2315539.2468 - val_mean_absolute_error: 870.7584\n",
      "Epoch 48/300\n",
      "43683/43683 [==============================] - 2s 38us/step - loss: 2387851.4159 - mean_squared_error: 2387851.4159 - mean_absolute_error: 855.1329 - val_loss: 2075651.2912 - val_mean_squared_error: 2075651.2912 - val_mean_absolute_error: 807.7679\n",
      "Epoch 49/300\n",
      "43683/43683 [==============================] - 2s 39us/step - loss: 2335838.0805 - mean_squared_error: 2335838.0805 - mean_absolute_error: 848.4915 - val_loss: 2661185.9603 - val_mean_squared_error: 2661185.9603 - val_mean_absolute_error: 903.7635\n",
      "Epoch 00049: early stopping\n"
     ]
    }
   ],
   "source": [
    "batch_size = 64\n",
    "n_epochs = 300\n",
    "early_stoping = EarlyStopping(monitor='val_mean_absolute_error',\n",
    "                              min_delta=5,\n",
    "                              patience=40,\n",
    "                              verbose=1,\n",
    "                              mode='auto')\n",
    "\n",
    "history = nn_reg_dropout.fit(X_train, y_train,\n",
    "                      epochs=n_epochs,\n",
    "                      batch_size=batch_size,\n",
    "                      validation_split=0.1,\n",
    "                      callbacks=[early_stoping])"
   ]
  },
  {
   "cell_type": "code",
   "execution_count": 47,
   "metadata": {},
   "outputs": [
    {
     "data": {
      "image/png": "[encoded data removed]",
      "text/plain": [
       "<Figure size 576x360 with 1 Axes>"
      ]
     },
     "metadata": {},
     "output_type": "display_data"
    }
   ],
   "source": [
    "fig, ax = plt.subplots(figsize=(8,5))\n",
    "ax.plot(history.history['mean_absolute_error'], label='Train MAE')\n",
    "ax.plot(history.history['val_mean_absolute_error'], label='Validation MAE')\n",
    "ax.set_title(\"MAE vs. epochs using dropout\", fontsize=15)\n",
    "ax.set_xlabel(\"epoch number\", fontsize=14)\n",
    "ax.legend(fontsize=12)\n",
    "ax.grid();"
   ]
  },
  {
   "cell_type": "code",
   "execution_count": null,
   "metadata": {},
   "outputs": [],
   "source": []
  },
  {
   "cell_type": "code",
   "execution_count": null,
   "metadata": {},
   "outputs": [],
   "source": []
  },
  {
   "cell_type": "code",
   "execution_count": null,
   "metadata": {},
   "outputs": [],
   "source": []
  },
  {
   "cell_type": "code",
   "execution_count": null,
   "metadata": {},
   "outputs": [],
   "source": []
  }
 ],
 "metadata": {
  "kernelspec": {
   "display_name": "Python 3",
   "language": "python",
   "name": "python3"
  },
  "language_info": {
   "codemirror_mode": {
    "name": "ipython",
    "version": 3
   },
   "file_extension": ".py",
   "mimetype": "text/x-python",
   "name": "python",
   "nbconvert_exporter": "python",
   "pygments_lexer": "ipython3",
   "version": "3.6.5"
  }
 },
 "nbformat": 4,
 "nbformat_minor": 2
}
