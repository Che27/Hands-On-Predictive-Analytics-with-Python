{
 "cells": [
  {
   "cell_type": "markdown",
   "metadata": {},
   "source": [
    "# Predicting Credit Card Default with Neural Networks"
   ]
  },
  {
   "cell_type": "code",
   "execution_count": 1,
   "metadata": {},
   "outputs": [],
   "source": [
    "import numpy as np\n",
    "import pandas as pd\n",
    "import matplotlib.pyplot as plt\n",
    "import seaborn as sns\n",
    "import os\n",
    "%matplotlib inline"
   ]
  },
  {
   "cell_type": "markdown",
   "metadata": {},
   "source": [
    "### Back with the credit card default dataset"
   ]
  },
  {
   "cell_type": "code",
   "execution_count": 2,
   "metadata": {},
   "outputs": [],
   "source": [
    "# Loading the dataset\n",
    "DATA_DIR = '../data'\n",
    "FILE_NAME = 'credit_card_default.csv'\n",
    "data_path = os.path.join(DATA_DIR, FILE_NAME)\n",
    "ccd = pd.read_csv(data_path, index_col=\"ID\")\n",
    "ccd.rename(columns=lambda x: x.lower(), inplace=True)\n",
    "ccd.rename(columns={'default payment next month':'default'}, inplace=True)\n",
    "\n",
    "# getting the groups of features\n",
    "bill_amt_features = ['bill_amt'+ str(i) for i in range(1,7)]\n",
    "pay_amt_features = ['pay_amt'+ str(i) for i in range(1,7)]\n",
    "numerical_features = ['limit_bal','age'] + bill_amt_features + pay_amt_features\n",
    "\n",
    "# Creating creating binary features\n",
    "ccd['male'] = (ccd['sex'] == 1).astype('int')\n",
    "ccd['grad_school'] = (ccd['education'] == 1).astype('int')\n",
    "ccd['university'] = (ccd['education'] == 2).astype('int')\n",
    "#ccd['high_school'] = (ccd['education'] == 3).astype('int')\n",
    "ccd['married'] = (ccd['marriage'] == 1).astype('int')\n",
    "\n",
    "# simplifying pay features \n",
    "pay_features= ['pay_' + str(i) for i in range(1,7)]\n",
    "for x in pay_features:\n",
    "    ccd.loc[ccd[x] <= 0, x] = 0\n",
    "\n",
    "# simplifying delayed features\n",
    "delayed_features = ['delayed_' + str(i) for i in range(1,7)]\n",
    "for pay, delayed in zip(pay_features, delayed_features):\n",
    "    ccd[delayed] = (ccd[pay] > 0).astype(int)\n",
    "    \n",
    "# creating a new feature: months delayed\n",
    "ccd['months_delayed'] = ccd[delayed_features].sum(axis=1)"
   ]
  },
  {
   "cell_type": "markdown",
   "metadata": {},
   "source": [
    "## Split and standarize the dataset"
   ]
  },
  {
   "cell_type": "code",
   "execution_count": 3,
   "metadata": {},
   "outputs": [
    {
     "name": "stderr",
     "output_type": "stream",
     "text": [
      "C:\\Users\\direc\\Anaconda3\\envs\\mybook\\lib\\site-packages\\pandas\\core\\indexing.py:543: SettingWithCopyWarning: \n",
      "A value is trying to be set on a copy of a slice from a DataFrame.\n",
      "Try using .loc[row_indexer,col_indexer] = value instead\n",
      "\n",
      "See the caveats in the documentation: http://pandas.pydata.org/pandas-docs/stable/indexing.html#indexing-view-versus-copy\n",
      "  self.obj[item] = s\n"
     ]
    }
   ],
   "source": [
    "numerical_features = numerical_features + ['months_delayed']\n",
    "binary_features = ['male','married','grad_school','university']\n",
    "X = ccd[numerical_features + binary_features]\n",
    "y = ccd['default'].astype(int)\n",
    "\n",
    "## Split\n",
    "from sklearn.model_selection import train_test_split\n",
    "X_train, X_test, y_train, y_test = train_test_split(X, y, test_size=5/30, random_state=101)\n",
    "\n",
    "## Standarize\n",
    "from sklearn.preprocessing import StandardScaler\n",
    "scaler = StandardScaler()\n",
    "scaler.fit(X_train[numerical_features])\n",
    "X_train.loc[:, numerical_features] = scaler.transform(X_train[numerical_features])\n",
    "# Standarize also the testing set\n",
    "X_test.loc[:, numerical_features] = scaler.transform(X_test[numerical_features])"
   ]
  },
  {
   "cell_type": "markdown",
   "metadata": {},
   "source": [
    "### Building the neural network for classification"
   ]
  },
  {
   "cell_type": "code",
   "execution_count": 4,
   "metadata": {},
   "outputs": [
    {
     "name": "stderr",
     "output_type": "stream",
     "text": [
      "C:\\Users\\direc\\Anaconda3\\envs\\mybook\\lib\\site-packages\\h5py\\__init__.py:36: FutureWarning: Conversion of the second argument of issubdtype from `float` to `np.floating` is deprecated. In future, it will be treated as `np.float64 == np.dtype(float).type`.\n",
      "  from ._conv import register_converters as _register_converters\n",
      "Using TensorFlow backend.\n"
     ]
    }
   ],
   "source": [
    "from keras.models import Sequential\n",
    "nn_classifier = Sequential()"
   ]
  },
  {
   "cell_type": "code",
   "execution_count": 5,
   "metadata": {},
   "outputs": [],
   "source": [
    "from keras.layers import Dense\n",
    "n_input = X_train.shape[1]\n",
    "n_units_hidden = 64\n",
    "nn_classifier.add(Dense(units=n_units_hidden, activation='relu', input_shape=(n_input,)))"
   ]
  },
  {
   "cell_type": "code",
   "execution_count": 6,
   "metadata": {},
   "outputs": [],
   "source": [
    "# add 2nd hidden layer\n",
    "nn_classifier.add(Dense(units=n_units_hidden, activation='relu'))\n",
    "# add 3th hidden layer\n",
    "nn_classifier.add(Dense(units=n_units_hidden, activation='relu'))\n",
    "# add 4th hidden layer\n",
    "nn_classifier.add(Dense(units=n_units_hidden, activation='relu'))\n",
    "# add 5th hidden layer\n",
    "nn_classifier.add(Dense(units=n_units_hidden, activation='relu'))"
   ]
  },
  {
   "cell_type": "code",
   "execution_count": 7,
   "metadata": {},
   "outputs": [],
   "source": [
    "# output layer\n",
    "nn_classifier.add(Dense(1, activation='sigmoid'))"
   ]
  },
  {
   "cell_type": "markdown",
   "metadata": {},
   "source": [
    "### Training the network"
   ]
  },
  {
   "cell_type": "code",
   "execution_count": 8,
   "metadata": {},
   "outputs": [],
   "source": [
    "## compiling step\n",
    "nn_classifier.compile(loss='binary_crossentropy', optimizer='adam')"
   ]
  },
  {
   "cell_type": "code",
   "execution_count": 9,
   "metadata": {},
   "outputs": [
    {
     "name": "stdout",
     "output_type": "stream",
     "text": [
      "_________________________________________________________________\n",
      "Layer (type)                 Output Shape              Param #   \n",
      "=================================================================\n",
      "dense_1 (Dense)              (None, 64)                1280      \n",
      "_________________________________________________________________\n",
      "dense_2 (Dense)              (None, 64)                4160      \n",
      "_________________________________________________________________\n",
      "dense_3 (Dense)              (None, 64)                4160      \n",
      "_________________________________________________________________\n",
      "dense_4 (Dense)              (None, 64)                4160      \n",
      "_________________________________________________________________\n",
      "dense_5 (Dense)              (None, 64)                4160      \n",
      "_________________________________________________________________\n",
      "dense_6 (Dense)              (None, 1)                 65        \n",
      "=================================================================\n",
      "Total params: 17,985\n",
      "Trainable params: 17,985\n",
      "Non-trainable params: 0\n",
      "_________________________________________________________________\n"
     ]
    }
   ],
   "source": [
    "nn_classifier.summary()"
   ]
  },
  {
   "cell_type": "code",
   "execution_count": 10,
   "metadata": {},
   "outputs": [],
   "source": [
    "nn_classifier.save_weights('class_initial_w.h5')"
   ]
  },
  {
   "cell_type": "code",
   "execution_count": 11,
   "metadata": {},
   "outputs": [
    {
     "name": "stdout",
     "output_type": "stream",
     "text": [
      "Epoch 1/150\n",
      "25000/25000 [==============================] - 1s 30us/step - loss: 0.4635\n",
      "Epoch 2/150\n",
      "25000/25000 [==============================] - 0s 17us/step - loss: 0.4467\n",
      "Epoch 3/150\n",
      "25000/25000 [==============================] - 0s 15us/step - loss: 0.4432\n",
      "Epoch 4/150\n",
      "25000/25000 [==============================] - 0s 16us/step - loss: 0.4414\n",
      "Epoch 5/150\n",
      "25000/25000 [==============================] - 0s 15us/step - loss: 0.4399\n",
      "Epoch 6/150\n",
      "25000/25000 [==============================] - 0s 15us/step - loss: 0.4389\n",
      "Epoch 7/150\n",
      "25000/25000 [==============================] - 0s 15us/step - loss: 0.4373\n",
      "Epoch 8/150\n",
      "25000/25000 [==============================] - 0s 15us/step - loss: 0.4370\n",
      "Epoch 9/150\n",
      "25000/25000 [==============================] - 0s 15us/step - loss: 0.4344\n",
      "Epoch 10/150\n",
      "25000/25000 [==============================] - 0s 15us/step - loss: 0.4332\n",
      "Epoch 11/150\n",
      "25000/25000 [==============================] - 0s 15us/step - loss: 0.4330\n",
      "Epoch 12/150\n",
      "25000/25000 [==============================] - 0s 15us/step - loss: 0.4306\n",
      "Epoch 13/150\n",
      "25000/25000 [==============================] - 0s 16us/step - loss: 0.4293\n",
      "Epoch 14/150\n",
      "25000/25000 [==============================] - 0s 17us/step - loss: 0.4279\n",
      "Epoch 15/150\n",
      "25000/25000 [==============================] - 0s 16us/step - loss: 0.4262\n",
      "Epoch 16/150\n",
      "25000/25000 [==============================] - 0s 16us/step - loss: 0.4257\n",
      "Epoch 17/150\n",
      "25000/25000 [==============================] - 0s 16us/step - loss: 0.4219\n",
      "Epoch 18/150\n",
      "25000/25000 [==============================] - 0s 16us/step - loss: 0.4206\n",
      "Epoch 19/150\n",
      "25000/25000 [==============================] - 0s 16us/step - loss: 0.4191\n",
      "Epoch 20/150\n",
      "25000/25000 [==============================] - 0s 16us/step - loss: 0.4163\n",
      "Epoch 21/150\n",
      "25000/25000 [==============================] - 0s 15us/step - loss: 0.4153\n",
      "Epoch 22/150\n",
      "25000/25000 [==============================] - 0s 15us/step - loss: 0.4118\n",
      "Epoch 23/150\n",
      "25000/25000 [==============================] - 0s 16us/step - loss: 0.4090\n",
      "Epoch 24/150\n",
      "25000/25000 [==============================] - 0s 15us/step - loss: 0.4072\n",
      "Epoch 25/150\n",
      "25000/25000 [==============================] - 0s 15us/step - loss: 0.4050\n",
      "Epoch 26/150\n",
      "25000/25000 [==============================] - 0s 15us/step - loss: 0.4026\n",
      "Epoch 27/150\n",
      "25000/25000 [==============================] - 0s 15us/step - loss: 0.3995\n",
      "Epoch 28/150\n",
      "25000/25000 [==============================] - 0s 15us/step - loss: 0.3963\n",
      "Epoch 29/150\n",
      "25000/25000 [==============================] - 0s 16us/step - loss: 0.3927\n",
      "Epoch 30/150\n",
      "25000/25000 [==============================] - 0s 16us/step - loss: 0.3916\n",
      "Epoch 31/150\n",
      "25000/25000 [==============================] - 0s 15us/step - loss: 0.3883\n",
      "Epoch 32/150\n",
      "25000/25000 [==============================] - 0s 15us/step - loss: 0.3858\n",
      "Epoch 33/150\n",
      "25000/25000 [==============================] - 0s 16us/step - loss: 0.3830\n",
      "Epoch 34/150\n",
      "25000/25000 [==============================] - 0s 15us/step - loss: 0.3829\n",
      "Epoch 35/150\n",
      "25000/25000 [==============================] - 0s 16us/step - loss: 0.3805\n",
      "Epoch 36/150\n",
      "25000/25000 [==============================] - 0s 15us/step - loss: 0.3753\n",
      "Epoch 37/150\n",
      "25000/25000 [==============================] - 0s 15us/step - loss: 0.3723\n",
      "Epoch 38/150\n",
      "25000/25000 [==============================] - 0s 15us/step - loss: 0.3684\n",
      "Epoch 39/150\n",
      "25000/25000 [==============================] - 0s 15us/step - loss: 0.3646\n",
      "Epoch 40/150\n",
      "25000/25000 [==============================] - 0s 16us/step - loss: 0.3658\n",
      "Epoch 41/150\n",
      "25000/25000 [==============================] - 0s 16us/step - loss: 0.3627\n",
      "Epoch 42/150\n",
      "25000/25000 [==============================] - 0s 16us/step - loss: 0.3577\n",
      "Epoch 43/150\n",
      "25000/25000 [==============================] - 0s 16us/step - loss: 0.3554\n",
      "Epoch 44/150\n",
      "25000/25000 [==============================] - 0s 19us/step - loss: 0.3542\n",
      "Epoch 45/150\n",
      "25000/25000 [==============================] - 0s 16us/step - loss: 0.3538\n",
      "Epoch 46/150\n",
      "25000/25000 [==============================] - 0s 17us/step - loss: 0.3472\n",
      "Epoch 47/150\n",
      "25000/25000 [==============================] - 0s 17us/step - loss: 0.3471\n",
      "Epoch 48/150\n",
      "25000/25000 [==============================] - 0s 16us/step - loss: 0.3450\n",
      "Epoch 49/150\n",
      "25000/25000 [==============================] - 0s 16us/step - loss: 0.3411\n",
      "Epoch 50/150\n",
      "25000/25000 [==============================] - 0s 16us/step - loss: 0.3423\n",
      "Epoch 51/150\n",
      "25000/25000 [==============================] - 0s 16us/step - loss: 0.3362\n",
      "Epoch 52/150\n",
      "25000/25000 [==============================] - 0s 16us/step - loss: 0.3334\n",
      "Epoch 53/150\n",
      "25000/25000 [==============================] - 0s 15us/step - loss: 0.3335\n",
      "Epoch 54/150\n",
      "25000/25000 [==============================] - 0s 16us/step - loss: 0.3421\n",
      "Epoch 55/150\n",
      "25000/25000 [==============================] - 0s 16us/step - loss: 0.3315\n",
      "Epoch 56/150\n",
      "25000/25000 [==============================] - 0s 16us/step - loss: 0.3274\n",
      "Epoch 57/150\n",
      "25000/25000 [==============================] - 0s 16us/step - loss: 0.3269\n",
      "Epoch 58/150\n",
      "25000/25000 [==============================] - 0s 16us/step - loss: 0.3198\n",
      "Epoch 59/150\n",
      "25000/25000 [==============================] - 0s 16us/step - loss: 0.3187\n",
      "Epoch 60/150\n",
      "25000/25000 [==============================] - 0s 16us/step - loss: 0.3167\n",
      "Epoch 61/150\n",
      "25000/25000 [==============================] - 0s 16us/step - loss: 0.3180\n",
      "Epoch 62/150\n",
      "25000/25000 [==============================] - 0s 16us/step - loss: 0.3138\n",
      "Epoch 63/150\n",
      "25000/25000 [==============================] - 0s 16us/step - loss: 0.3081\n",
      "Epoch 64/150\n",
      "25000/25000 [==============================] - 0s 16us/step - loss: 0.3099\n",
      "Epoch 65/150\n",
      "25000/25000 [==============================] - 0s 16us/step - loss: 0.3079\n",
      "Epoch 66/150\n",
      "25000/25000 [==============================] - 0s 16us/step - loss: 0.3007\n",
      "Epoch 67/150\n",
      "25000/25000 [==============================] - 0s 16us/step - loss: 0.3055\n",
      "Epoch 68/150\n",
      "25000/25000 [==============================] - 0s 16us/step - loss: 0.3032\n",
      "Epoch 69/150\n",
      "25000/25000 [==============================] - 0s 16us/step - loss: 0.3010\n",
      "Epoch 70/150\n",
      "25000/25000 [==============================] - 0s 19us/step - loss: 0.2987\n",
      "Epoch 71/150\n",
      "25000/25000 [==============================] - 0s 19us/step - loss: 0.2966\n",
      "Epoch 72/150\n",
      "25000/25000 [==============================] - 0s 17us/step - loss: 0.3032\n",
      "Epoch 73/150\n",
      "25000/25000 [==============================] - 0s 16us/step - loss: 0.2959\n",
      "Epoch 74/150\n",
      "25000/25000 [==============================] - 0s 16us/step - loss: 0.2914\n",
      "Epoch 75/150\n",
      "25000/25000 [==============================] - 0s 16us/step - loss: 0.2896\n",
      "Epoch 76/150\n",
      "25000/25000 [==============================] - 0s 16us/step - loss: 0.2837\n",
      "Epoch 77/150\n",
      "25000/25000 [==============================] - 0s 18us/step - loss: 0.2860\n",
      "Epoch 78/150\n",
      "25000/25000 [==============================] - 0s 17us/step - loss: 0.2820\n",
      "Epoch 79/150\n",
      "25000/25000 [==============================] - 0s 18us/step - loss: 0.2796\n",
      "Epoch 80/150\n",
      "25000/25000 [==============================] - 0s 16us/step - loss: 0.2791\n",
      "Epoch 81/150\n",
      "25000/25000 [==============================] - 0s 16us/step - loss: 0.2847\n",
      "Epoch 82/150\n",
      "25000/25000 [==============================] - 0s 16us/step - loss: 0.2748\n",
      "Epoch 83/150\n",
      "25000/25000 [==============================] - 0s 16us/step - loss: 0.2721\n",
      "Epoch 84/150\n",
      "25000/25000 [==============================] - 0s 17us/step - loss: 0.2678\n",
      "Epoch 85/150\n",
      "25000/25000 [==============================] - 0s 16us/step - loss: 0.2724\n",
      "Epoch 86/150\n",
      "25000/25000 [==============================] - 0s 17us/step - loss: 0.2755\n",
      "Epoch 87/150\n",
      "25000/25000 [==============================] - 0s 16us/step - loss: 0.2641\n",
      "Epoch 88/150\n",
      "25000/25000 [==============================] - 0s 16us/step - loss: 0.2626\n",
      "Epoch 89/150\n",
      "25000/25000 [==============================] - 0s 16us/step - loss: 0.2685\n",
      "Epoch 90/150\n",
      "25000/25000 [==============================] - 0s 16us/step - loss: 0.2739\n",
      "Epoch 91/150\n",
      "25000/25000 [==============================] - 0s 16us/step - loss: 0.2659\n",
      "Epoch 92/150\n",
      "25000/25000 [==============================] - 0s 16us/step - loss: 0.2687\n",
      "Epoch 93/150\n",
      "25000/25000 [==============================] - 0s 16us/step - loss: 0.2620\n",
      "Epoch 94/150\n",
      "25000/25000 [==============================] - 0s 16us/step - loss: 0.2636\n",
      "Epoch 95/150\n",
      "25000/25000 [==============================] - 0s 16us/step - loss: 0.2624\n",
      "Epoch 96/150\n",
      "25000/25000 [==============================] - 0s 15us/step - loss: 0.2553\n",
      "Epoch 97/150\n",
      "25000/25000 [==============================] - 0s 15us/step - loss: 0.2489\n",
      "Epoch 98/150\n",
      "25000/25000 [==============================] - 0s 17us/step - loss: 0.2500\n",
      "Epoch 99/150\n",
      "25000/25000 [==============================] - 0s 15us/step - loss: 0.2571\n",
      "Epoch 100/150\n",
      "25000/25000 [==============================] - 0s 16us/step - loss: 0.2530\n",
      "Epoch 101/150\n",
      "25000/25000 [==============================] - 0s 15us/step - loss: 0.2588\n",
      "Epoch 102/150\n",
      "25000/25000 [==============================] - 0s 15us/step - loss: 0.2534\n",
      "Epoch 103/150\n",
      "25000/25000 [==============================] - 0s 16us/step - loss: 0.2447\n",
      "Epoch 104/150\n",
      "25000/25000 [==============================] - 0s 16us/step - loss: 0.2508\n",
      "Epoch 105/150\n",
      "25000/25000 [==============================] - 0s 16us/step - loss: 0.2433\n",
      "Epoch 106/150\n",
      "25000/25000 [==============================] - 0s 15us/step - loss: 0.2381\n",
      "Epoch 107/150\n",
      "25000/25000 [==============================] - 0s 17us/step - loss: 0.2510\n",
      "Epoch 108/150\n",
      "25000/25000 [==============================] - 0s 16us/step - loss: 0.2528\n",
      "Epoch 109/150\n",
      "25000/25000 [==============================] - 0s 18us/step - loss: 0.2399\n",
      "Epoch 110/150\n",
      "25000/25000 [==============================] - 0s 18us/step - loss: 0.2359\n",
      "Epoch 111/150\n",
      "25000/25000 [==============================] - 0s 17us/step - loss: 0.2324\n",
      "Epoch 112/150\n",
      "25000/25000 [==============================] - 0s 17us/step - loss: 0.2493\n",
      "Epoch 113/150\n",
      "25000/25000 [==============================] - 0s 15us/step - loss: 0.2407\n",
      "Epoch 114/150\n",
      "25000/25000 [==============================] - 0s 17us/step - loss: 0.2408\n",
      "Epoch 115/150\n",
      "25000/25000 [==============================] - 0s 15us/step - loss: 0.2343\n",
      "Epoch 116/150\n",
      "25000/25000 [==============================] - 0s 15us/step - loss: 0.2322\n",
      "Epoch 117/150\n",
      "25000/25000 [==============================] - 0s 16us/step - loss: 0.2314\n",
      "Epoch 118/150\n",
      "25000/25000 [==============================] - 0s 17us/step - loss: 0.2292\n",
      "Epoch 119/150\n",
      "25000/25000 [==============================] - 0s 16us/step - loss: 0.2354\n",
      "Epoch 120/150\n",
      "25000/25000 [==============================] - 0s 16us/step - loss: 0.2353\n",
      "Epoch 121/150\n",
      "25000/25000 [==============================] - 0s 16us/step - loss: 0.2303\n",
      "Epoch 122/150\n",
      "25000/25000 [==============================] - 0s 17us/step - loss: 0.2238\n",
      "Epoch 123/150\n",
      "25000/25000 [==============================] - 0s 18us/step - loss: 0.2218\n",
      "Epoch 124/150\n",
      "25000/25000 [==============================] - 0s 16us/step - loss: 0.2299\n",
      "Epoch 125/150\n",
      "25000/25000 [==============================] - 0s 15us/step - loss: 0.2224\n",
      "Epoch 126/150\n",
      "25000/25000 [==============================] - 0s 16us/step - loss: 0.2244\n",
      "Epoch 127/150\n",
      "25000/25000 [==============================] - 0s 17us/step - loss: 0.2223\n",
      "Epoch 128/150\n",
      "25000/25000 [==============================] - 0s 15us/step - loss: 0.2198\n",
      "Epoch 129/150\n",
      "25000/25000 [==============================] - 0s 16us/step - loss: 0.2242\n",
      "Epoch 130/150\n",
      "25000/25000 [==============================] - 0s 15us/step - loss: 0.2378\n",
      "Epoch 131/150\n",
      "25000/25000 [==============================] - 0s 15us/step - loss: 0.2157\n",
      "Epoch 132/150\n",
      "25000/25000 [==============================] - 0s 15us/step - loss: 0.2157\n",
      "Epoch 133/150\n",
      "25000/25000 [==============================] - 0s 15us/step - loss: 0.2113\n",
      "Epoch 134/150\n",
      "25000/25000 [==============================] - 0s 15us/step - loss: 0.2159\n",
      "Epoch 135/150\n",
      "25000/25000 [==============================] - 0s 15us/step - loss: 0.2152\n",
      "Epoch 136/150\n",
      "25000/25000 [==============================] - 0s 15us/step - loss: 0.2129\n",
      "Epoch 137/150\n",
      "25000/25000 [==============================] - 0s 16us/step - loss: 0.2200\n",
      "Epoch 138/150\n",
      "25000/25000 [==============================] - 0s 18us/step - loss: 0.2137\n",
      "Epoch 139/150\n",
      "25000/25000 [==============================] - 0s 16us/step - loss: 0.2096\n",
      "Epoch 140/150\n",
      "25000/25000 [==============================] - 0s 16us/step - loss: 0.2089\n",
      "Epoch 141/150\n",
      "25000/25000 [==============================] - 0s 16us/step - loss: 0.2136\n",
      "Epoch 142/150\n",
      "25000/25000 [==============================] - 0s 16us/step - loss: 0.2095\n",
      "Epoch 143/150\n",
      "25000/25000 [==============================] - 0s 16us/step - loss: 0.2011\n",
      "Epoch 144/150\n",
      "25000/25000 [==============================] - 0s 15us/step - loss: 0.2098\n",
      "Epoch 145/150\n",
      "25000/25000 [==============================] - 0s 16us/step - loss: 0.2227\n",
      "Epoch 146/150\n",
      "25000/25000 [==============================] - 0s 15us/step - loss: 0.2123\n",
      "Epoch 147/150\n",
      "25000/25000 [==============================] - 0s 16us/step - loss: 0.2051\n",
      "Epoch 148/150\n",
      "25000/25000 [==============================] - 0s 15us/step - loss: 0.2085\n",
      "Epoch 149/150\n",
      "25000/25000 [==============================] - 0s 16us/step - loss: 0.1986\n",
      "Epoch 150/150\n",
      "25000/25000 [==============================] - 0s 16us/step - loss: 0.1929\n"
     ]
    },
    {
     "data": {
      "text/plain": [
       "<keras.callbacks.History at 0x2c872830e10>"
      ]
     },
     "execution_count": 11,
     "metadata": {},
     "output_type": "execute_result"
    }
   ],
   "source": [
    "batch_size = 64\n",
    "n_epochs = 150\n",
    "nn_classifier.fit(X_train, y_train, epochs=n_epochs, batch_size=batch_size)"
   ]
  },
  {
   "cell_type": "markdown",
   "metadata": {},
   "source": [
    "## Evaluating predictions"
   ]
  },
  {
   "cell_type": "code",
   "execution_count": 12,
   "metadata": {},
   "outputs": [],
   "source": [
    "## Getting the probabilities\n",
    "y_pred_train_prob = nn_classifier.predict(X_train)\n",
    "y_pred_test_prob = nn_classifier.predict(X_test)\n",
    "\n",
    "## Classifications from predictions\n",
    "y_pred_train = (y_pred_train_prob > 0.5).astype(int)\n",
    "y_pred_test = (y_pred_test_prob > 0.5).astype(int)"
   ]
  },
  {
   "cell_type": "code",
   "execution_count": 13,
   "metadata": {},
   "outputs": [
    {
     "name": "stdout",
     "output_type": "stream",
     "text": [
      "Train Accuracy: 0.923 \n",
      "Test Accuracy: 0.740\n"
     ]
    }
   ],
   "source": [
    "from sklearn.metrics import accuracy_score\n",
    "train_acc = accuracy_score(y_true=y_train, y_pred=y_pred_train)\n",
    "test_acc = accuracy_score(y_true=y_test, y_pred=y_pred_test)\n",
    "print(\"Train Accuracy: {:0.3f} \\nTest Accuracy: {:0.3f}\".format(train_acc, test_acc))"
   ]
  },
  {
   "cell_type": "markdown",
   "metadata": {},
   "source": [
    "## Re-training the network with less epochs"
   ]
  },
  {
   "cell_type": "code",
   "execution_count": 14,
   "metadata": {},
   "outputs": [],
   "source": [
    "## load the initial weights\n",
    "nn_classifier.load_weights('class_initial_w.h5')"
   ]
  },
  {
   "cell_type": "code",
   "execution_count": 15,
   "metadata": {
    "scrolled": true
   },
   "outputs": [
    {
     "name": "stdout",
     "output_type": "stream",
     "text": [
      "Epoch 1/50\n",
      "25000/25000 [==============================] - 1s 32us/step - loss: 0.4642\n",
      "Epoch 2/50\n",
      "25000/25000 [==============================] - 0s 16us/step - loss: 0.4468\n",
      "Epoch 3/50\n",
      "25000/25000 [==============================] - 0s 16us/step - loss: 0.4441\n",
      "Epoch 4/50\n",
      "25000/25000 [==============================] - 0s 16us/step - loss: 0.4416\n",
      "Epoch 5/50\n",
      "25000/25000 [==============================] - 0s 16us/step - loss: 0.4396\n",
      "Epoch 6/50\n",
      "25000/25000 [==============================] - 0s 16us/step - loss: 0.4391\n",
      "Epoch 7/50\n",
      "25000/25000 [==============================] - 0s 16us/step - loss: 0.4377\n",
      "Epoch 8/50\n",
      "25000/25000 [==============================] - 0s 16us/step - loss: 0.4363\n",
      "Epoch 9/50\n",
      "25000/25000 [==============================] - 0s 16us/step - loss: 0.4352\n",
      "Epoch 10/50\n",
      "25000/25000 [==============================] - 0s 16us/step - loss: 0.4337\n",
      "Epoch 11/50\n",
      "25000/25000 [==============================] - 0s 16us/step - loss: 0.4322\n",
      "Epoch 12/50\n",
      "25000/25000 [==============================] - 0s 16us/step - loss: 0.4327\n",
      "Epoch 13/50\n",
      "25000/25000 [==============================] - 0s 16us/step - loss: 0.4295\n",
      "Epoch 14/50\n",
      "25000/25000 [==============================] - 0s 16us/step - loss: 0.4284\n",
      "Epoch 15/50\n",
      "25000/25000 [==============================] - 0s 16us/step - loss: 0.4271\n",
      "Epoch 16/50\n",
      "25000/25000 [==============================] - 0s 16us/step - loss: 0.4247\n",
      "Epoch 17/50\n",
      "25000/25000 [==============================] - 0s 15us/step - loss: 0.4238\n",
      "Epoch 18/50\n",
      "25000/25000 [==============================] - 0s 16us/step - loss: 0.4208\n",
      "Epoch 19/50\n",
      "25000/25000 [==============================] - 0s 16us/step - loss: 0.4200\n",
      "Epoch 20/50\n",
      "25000/25000 [==============================] - 0s 15us/step - loss: 0.4178\n",
      "Epoch 21/50\n",
      "25000/25000 [==============================] - 0s 16us/step - loss: 0.4166\n",
      "Epoch 22/50\n",
      "25000/25000 [==============================] - 0s 16us/step - loss: 0.4129\n",
      "Epoch 23/50\n",
      "25000/25000 [==============================] - 0s 16us/step - loss: 0.4111\n",
      "Epoch 24/50\n",
      "25000/25000 [==============================] - 0s 16us/step - loss: 0.4085\n",
      "Epoch 25/50\n",
      "25000/25000 [==============================] - 0s 15us/step - loss: 0.4077\n",
      "Epoch 26/50\n",
      "25000/25000 [==============================] - 0s 16us/step - loss: 0.4041\n",
      "Epoch 27/50\n",
      "25000/25000 [==============================] - 0s 16us/step - loss: 0.4037\n",
      "Epoch 28/50\n",
      "25000/25000 [==============================] - 0s 16us/step - loss: 0.3999\n",
      "Epoch 29/50\n",
      "25000/25000 [==============================] - 0s 16us/step - loss: 0.3980\n",
      "Epoch 30/50\n",
      "25000/25000 [==============================] - 0s 15us/step - loss: 0.3955\n",
      "Epoch 31/50\n",
      "25000/25000 [==============================] - 0s 16us/step - loss: 0.3925\n",
      "Epoch 32/50\n",
      "25000/25000 [==============================] - 0s 16us/step - loss: 0.3903\n",
      "Epoch 33/50\n",
      "25000/25000 [==============================] - 0s 16us/step - loss: 0.3879\n",
      "Epoch 34/50\n",
      "25000/25000 [==============================] - 0s 16us/step - loss: 0.3856\n",
      "Epoch 35/50\n",
      "25000/25000 [==============================] - 0s 16us/step - loss: 0.3829\n",
      "Epoch 36/50\n",
      "25000/25000 [==============================] - 0s 16us/step - loss: 0.3802\n",
      "Epoch 37/50\n",
      "25000/25000 [==============================] - 0s 16us/step - loss: 0.3779\n",
      "Epoch 38/50\n",
      "25000/25000 [==============================] - 0s 16us/step - loss: 0.3778\n",
      "Epoch 39/50\n",
      "25000/25000 [==============================] - 0s 16us/step - loss: 0.3712\n",
      "Epoch 40/50\n",
      "25000/25000 [==============================] - 0s 16us/step - loss: 0.3695\n",
      "Epoch 41/50\n",
      "25000/25000 [==============================] - 0s 16us/step - loss: 0.3679\n",
      "Epoch 42/50\n",
      "25000/25000 [==============================] - 0s 16us/step - loss: 0.3639\n",
      "Epoch 43/50\n",
      "25000/25000 [==============================] - 0s 16us/step - loss: 0.3601\n",
      "Epoch 44/50\n",
      "25000/25000 [==============================] - 0s 16us/step - loss: 0.3573\n",
      "Epoch 45/50\n",
      "25000/25000 [==============================] - 0s 18us/step - loss: 0.3545\n",
      "Epoch 46/50\n",
      "25000/25000 [==============================] - 0s 17us/step - loss: 0.3575\n",
      "Epoch 47/50\n",
      "25000/25000 [==============================] - 0s 17us/step - loss: 0.3519\n",
      "Epoch 48/50\n",
      "25000/25000 [==============================] - 0s 16us/step - loss: 0.3470\n",
      "Epoch 49/50\n",
      "25000/25000 [==============================] - 0s 16us/step - loss: 0.3459\n",
      "Epoch 50/50\n",
      "25000/25000 [==============================] - 0s 16us/step - loss: 0.3488\n"
     ]
    },
    {
     "data": {
      "text/plain": [
       "<keras.callbacks.History at 0x2c8735090b8>"
      ]
     },
     "execution_count": 15,
     "metadata": {},
     "output_type": "execute_result"
    }
   ],
   "source": [
    "batch_size = 64\n",
    "n_epochs = 50\n",
    "nn_classifier.compile(loss='binary_crossentropy', optimizer='adam')\n",
    "nn_classifier.fit(X_train, y_train, epochs=n_epochs, batch_size=batch_size)"
   ]
  },
  {
   "cell_type": "code",
   "execution_count": 16,
   "metadata": {},
   "outputs": [
    {
     "name": "stdout",
     "output_type": "stream",
     "text": [
      "Train Accuracy: 0.852 \n",
      "Test Accuracy: 0.786\n"
     ]
    }
   ],
   "source": [
    "## Getting the probabilities\n",
    "y_pred_train_prob = nn_classifier.predict(X_train)\n",
    "y_pred_test_prob = nn_classifier.predict(X_test)\n",
    "\n",
    "## Classifications from predictions\n",
    "y_pred_train = (y_pred_train_prob > 0.5).astype(int)\n",
    "y_pred_test = (y_pred_test_prob > 0.5).astype(int)\n",
    "\n",
    "## Calculating accuracy\n",
    "train_acc = accuracy_score(y_true=y_train, y_pred=y_pred_train)\n",
    "test_acc = accuracy_score(y_true=y_test, y_pred=y_pred_test)\n",
    "print(\"Train Accuracy: {:0.3f} \\nTest Accuracy: {:0.3f}\".format(train_acc, test_acc))"
   ]
  },
  {
   "cell_type": "code",
   "execution_count": null,
   "metadata": {},
   "outputs": [],
   "source": []
  },
  {
   "cell_type": "code",
   "execution_count": null,
   "metadata": {},
   "outputs": [],
   "source": []
  },
  {
   "cell_type": "code",
   "execution_count": null,
   "metadata": {},
   "outputs": [],
   "source": []
  },
  {
   "cell_type": "code",
   "execution_count": null,
   "metadata": {},
   "outputs": [],
   "source": []
  }
 ],
 "metadata": {
  "kernelspec": {
   "display_name": "Python 3",
   "language": "python",
   "name": "python3"
  },
  "language_info": {
   "codemirror_mode": {
    "name": "ipython",
    "version": 3
   },
   "file_extension": ".py",
   "mimetype": "text/x-python",
   "name": "python",
   "nbconvert_exporter": "python",
   "pygments_lexer": "ipython3",
   "version": "3.6.5"
  }
 },
 "nbformat": 4,
 "nbformat_minor": 2
}
